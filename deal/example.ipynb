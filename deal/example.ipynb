{
 "metadata": {
  "language_info": {
   "codemirror_mode": {
    "name": "ipython",
    "version": 3
   },
   "file_extension": ".py",
   "mimetype": "text/x-python",
   "name": "python",
   "nbconvert_exporter": "python",
   "pygments_lexer": "ipython3",
   "version": "3.9.2"
  },
  "orig_nbformat": 2,
  "kernelspec": {
   "name": "python392jvsc74a57bd0aee8b7b246df8f9039afb4144a1f6fd8d2ca17a180786b69acc140d282b71a49",
   "display_name": "Python 3.9.2 64-bit"
  },
  "metadata": {
   "interpreter": {
    "hash": "aee8b7b246df8f9039afb4144a1f6fd8d2ca17a180786b69acc140d282b71a49"
   }
  }
 },
 "nbformat": 4,
 "nbformat_minor": 2,
 "cells": [
  {
   "cell_type": "code",
   "execution_count": 38,
   "metadata": {},
   "outputs": [
    {
     "output_type": "execute_result",
     "data": {
      "text/plain": [
       "Unnamed: 0                int64\n",
       "property_id              object\n",
       "listing_id                int64\n",
       "products                 object\n",
       "rdc_web_url              object\n",
       "prop_type                object\n",
       "address                  object\n",
       "branding                 object\n",
       "prop_status              object\n",
       "price                     int64\n",
       "baths_full                int64\n",
       "baths                     int64\n",
       "beds                      int64\n",
       "building_size            object\n",
       "agents                   object\n",
       "office                   object\n",
       "last_update              object\n",
       "client_display_flags     object\n",
       "lead_forms               object\n",
       "photo_count               int64\n",
       "thumbnail                object\n",
       "page_no                   int64\n",
       "rank                      int64\n",
       "list_tracking            object\n",
       "lot_size                 object\n",
       "mls                      object\n",
       "data_source_name         object\n",
       "baths_half              float64\n",
       "virtual_tour             object\n",
       "dtype: object"
      ]
     },
     "metadata": {},
     "execution_count": 38
    }
   ],
   "source": [
    "import pandas as pd\n",
    "df = pd.read_csv('/Users/home/Downloads/for_sale.csv')\n",
    "df.dtypes"
   ]
  },
  {
   "cell_type": "code",
   "execution_count": 39,
   "metadata": {},
   "outputs": [
    {
     "output_type": "execute_result",
     "data": {
      "text/plain": [
       "'task1'"
      ]
     },
     "metadata": {},
     "execution_count": 39
    }
   ],
   "source": [
    "\"task\"+str(1)"
   ]
  },
  {
   "cell_type": "code",
   "execution_count": 40,
   "metadata": {},
   "outputs": [],
   "source": [
    "aa = {'a':23, 'b':22}\n",
    "bb = {'c':30, 'd':98}\n",
    "\n",
    "def func():\n",
    "    return aa, bb"
   ]
  },
  {
   "cell_type": "code",
   "execution_count": 41,
   "metadata": {},
   "outputs": [
    {
     "output_type": "execute_result",
     "data": {
      "text/plain": [
       "{'a': 23, 'b': 22}"
      ]
     },
     "metadata": {},
     "execution_count": 41
    }
   ],
   "source": [
    "func()[0]"
   ]
  },
  {
   "cell_type": "code",
   "execution_count": 42,
   "metadata": {},
   "outputs": [
    {
     "output_type": "execute_result",
     "data": {
      "text/plain": [
       "False"
      ]
     },
     "metadata": {},
     "execution_count": 42
    }
   ],
   "source": [
    "er = {'a':''}\n",
    "er['a']==None"
   ]
  },
  {
   "cell_type": "code",
   "execution_count": 43,
   "metadata": {},
   "outputs": [],
   "source": [
    "def sum():\n",
    "    return 34\n"
   ]
  },
  {
   "cell_type": "code",
   "execution_count": 44,
   "metadata": {},
   "outputs": [],
   "source": [
    "def sum():\n",
    "    return 6"
   ]
  },
  {
   "cell_type": "code",
   "execution_count": 45,
   "metadata": {},
   "outputs": [
    {
     "output_type": "execute_result",
     "data": {
      "text/plain": [
       "6"
      ]
     },
     "metadata": {},
     "execution_count": 45
    }
   ],
   "source": [
    "sum()"
   ]
  },
  {
   "cell_type": "code",
   "execution_count": 58,
   "metadata": {
    "tags": [
     "outputPrepend"
    ]
   },
   "outputs": [
    {
     "output_type": "stream",
     "name": "stdout",
     "text": [
      "\":\"office\"},{\"trackable\":null,\"number\":\"4422680149\",\"ext\":null,\"primary\":false,\"type\":\"primary\"},{\"trackable\":true,\"number\":\"4422680149\",\"ext\":null,\"primary\":false,\"type\":\"primary\"}],\"lead_email\":{\"to\":\"rentalservice@move.com\",\"cc\":null},\"photo\":null,\"name\":\"Princeton Enterprises, LLC\",\"fulfillment_id\":null,\"href\":null,\"mls_set\":null,\"email\":\"rentalservice@move.com\"},\"broker\":null,\"name\":null,\"mls_set\":null,\"email\":null,\"nrds_id\":null,\"type\":\"management\",\"slogan\":null,\"photo\":null,\"href\":null,\"phones\":null,\"fulfillment_id\":null},{\"office\":{\"phones\":[{\"trackable\":null,\"number\":\"4422680149\",\"ext\":null,\"primary\":false,\"type\":\"office\"}],\"lead_email\":null,\"photo\":null,\"name\":\"Cityside Apartments and Townhomes\",\"fulfillment_id\":null,\"href\":null,\"mls_set\":null,\"email\":null},\"broker\":null,\"name\":null,\"mls_set\":null,\"email\":null,\"nrds_id\":null,\"type\":\"community\",\"slogan\":null,\"photo\":null,\"href\":null,\"phones\":null,\"fulfillment_id\":null}],\"virtual_tours\":null,\"seller_promotion\":null,\"listing_id\":\"612930637\",\"price_reduced_amount\":null,\"location\":{\"county\":{\"name\":\"Wayne\",\"state_code\":\"MI\",\"fips_code\":\"26163\"},\"address\":{\"street_post_direction\":null,\"street_number\":\"2716\",\"state\":\"Michigan\",\"street_suffix\":\"St\",\"state_code\":\"MI\",\"unit\":null,\"postal_code\":\"48207\",\"street_direction\":null,\"street_name\":\"Macomb\",\"country\":\"USA\",\"coordinate\":{\"lon\":-83.02486,\"lat\":42.34316},\"line\":\"2716 Macomb St\",\"city\":\"Detroit\"},\"search_areas\":[{\"city\":\"detroit\",\"state_code\":\"mi\"}],\"neighborhoods\":[{\"city\":\"Detroit\",\"level\":\"neighborhood\",\"name\":\"Elmwood Park\",\"state_code\":\"MI\",\"id\":\"32b85805-046f-51ba-afff-e1cb58af300a\"}]},\"last_update_date\":\"2021-04-08T08:44:00Z\",\"source\":{\"agents\":null,\"community_id\":1840726,\"id\":\"CSTR\",\"listing_id\":\"lhe5x0e\",\"name\":null,\"raw\":null,\"type\":\"community\"},\"permalink\":\"2716-Macomb-St_Detroit_MI_48207_M36276-05647\",\"list_date\":\"2018-08-20T17:22:00Z\",\"open_houses\":null,\"last_sold_date\":null,\"last_price_change_date\":null,\"description\":{\"garage_max\":null,\"sqft_min\":545,\"baths_partial_calc\":null,\"baths_1qtr\":null,\"beds_max\":4,\"lot_sqft\":null,\"sub_type\":null,\"garage\":null,\"baths_3qtr\":null,\"garage_min\":null,\"beds_min\":1,\"baths_min\":1,\"name\":\"Cityside Apartments and Townhomes\",\"baths_half\":null,\"sqft\":null,\"year_built\":1975,\"baths\":null,\"baths_full\":null,\"sqft_max\":1200,\"baths_max\":2,\"baths_full_calc\":null,\"beds\":null,\"type\":\"apartment\"},\"last_price_change_amount\":null,\"price_reduced_date\":null,\"property_history\":null,\"photo_count\":28,\"list_price\":null,\"lead_attributes\":{\"show_contact_an_agent\":true},\"list_price_max\":1600,\"tags\":[\"community_no_fee\",\"central_air\",\"dishwasher\",\"forced_air\",\"pets_allowed\",\"swimming_pool\",\"view\",\"washer_dryer\"],\"pet_policy\":{\"cats\":true,\"dogs\":true,\"dogs_large\":null,\"dogs_small\":true,\"text\":null},\"products\":{\"products\":[\"showcase_community\"],\"product_attributes\":null},\"suppression_flags\":null,\"status\":\"for_rent\",\"flags\":{\"is_deal_available\":null,\"is_senior_community\":null,\"is_new_listing\":false,\"is_for_rent\":true,\"is_garage_present\":null},\"community\":null,\"matterport\":false,\"primary_photo\":{\"href\":\"https:\\/\\/ar.rdcpix.com\\/125944411\\/299b9db03e392150137c9d7dfc1938aac-f0o.jpg\",\"type\":null,\"description\":null}},{\"photos\":[{\"title\":null,\"description\":null,\"tags\":null,\"href\":\"https:\\/\\/ar.rdcpix.com\\/b5f449396ef70fe284ccba22b0a20e9dc-f1006386364o.jpg\",\"type\":null},{\"title\":null,\"description\":null,\"tags\":null,\"href\":\"https:\\/\\/ar.rdcpix.com\\/b5f449396ef70fe284ccba22b0a20e9dc-f234543375o.jpg\",\"type\":null}],\"branding\":{},\"other_listings\":{\"rdc\":[{\"listing_id\":\"2924659916\",\"status\":\"for_rent\",\"primary\":true}]},\"list_price_min\":825,\"href\":\"https:\\/\\/www.realtor.com\\/realestateandhomes-detail\\/17435-17529-Manderson-Rd_Detroit_MI_48203_M95661-86525\",\"when_indexed\":\"2021-04-08T21:53:26.590Z\",\"last_sold_price\":null,\"property_id\":\"9566186525\",\"advertisers\":[{\"office\":{\"phones\":[{\"trackable\":null,\"number\":null,\"ext\":null,\"primary\":false,\"type\":\"office\"},{\"trackable\":null,\"number\":\"2482211996\",\"ext\":null,\"primary\":false,\"type\":\"primary\"},{\"trackable\":true,\"number\":\"2482211996\",\"ext\":null,\"primary\":false,\"type\":\"primary\"}],\"lead_email\":{\"to\":\"rentalservice@move.com\",\"cc\":null},\"photo\":null,\"name\":\"Urbane Management\",\"fulfillment_id\":null,\"href\":null,\"mls_set\":null,\"email\":\"rentalservice@move.com\"},\"broker\":null,\"name\":null,\"mls_set\":null,\"email\":null,\"nrds_id\":null,\"type\":\"management\",\"slogan\":null,\"photo\":null,\"href\":null,\"phones\":null,\"fulfillment_id\":null},{\"office\":{\"phones\":[{\"trackable\":null,\"number\":\"2482211996\",\"ext\":null,\"primary\":false,\"type\":\"office\"}],\"lead_email\":null,\"photo\":null,\"name\":\"Urbane Manderson\",\"fulfillment_id\":null,\"href\":null,\"mls_set\":null,\"email\":null},\"broker\":null,\"name\":null,\"mls_set\":null,\"email\":null,\"nrds_id\":null,\"type\":\"community\",\"slogan\":null,\"photo\":null,\"href\":null,\"phones\":null,\"fulfillment_id\":null}],\"virtual_tours\":null,\"seller_promotion\":null,\"listing_id\":\"2924659916\",\"price_reduced_amount\":null,\"location\":{\"county\":{\"name\":\"Wayne\",\"state_code\":\"MI\",\"fips_code\":\"26163\"},\"address\":{\"street_post_direction\":null,\"street_number\":\"17435-17529\",\"state\":\"Michigan\",\"street_suffix\":\"Rd\",\"state_code\":\"MI\",\"unit\":null,\"postal_code\":\"48203\",\"street_direction\":null,\"street_name\":\"Manderson\",\"country\":\"USA\",\"coordinate\":{\"lon\":-83.116546,\"lat\":42.419479},\"line\":\"17435-17529 Manderson Rd\",\"city\":\"Detroit\"},\"search_areas\":[{\"city\":\"detroit\",\"state_code\":\"mi\"}],\"neighborhoods\":[{\"city\":\"Detroit\",\"level\":\"neighborhood\",\"name\":\"Palmer Park\",\"state_code\":\"MI\",\"id\":\"071fd585-50d0-56f4-9bf6-239172952cd0\"}]},\"last_update_date\":\"2021-04-08T08:44:00Z\",\"source\":{\"agents\":null,\"community_id\":2352138,\"id\":\"CSTR\",\"listing_id\":\"ej82m1p\",\"name\":null,\"raw\":null,\"type\":\"community\"},\"permalink\":\"17435-17529-Manderson-Rd_Detroit_MI_48203_M95661-86525\",\"list_date\":\"2021-01-01T02:26:00Z\",\"open_houses\":null,\"last_sold_date\":null,\"last_price_change_date\":null,\"description\":{\"garage_max\":null,\"sqft_min\":700,\"baths_partial_calc\":null,\"baths_1qtr\":null,\"beds_max\":1,\"lot_sqft\":null,\"sub_type\":null,\"garage\":null,\"baths_3qtr\":null,\"garage_min\":null,\"beds_min\":1,\"baths_min\":1,\"name\":\"Urbane Manderson\",\"baths_half\":null,\"sqft\":null,\"year_built\":1941,\"baths\":null,\"baths_full\":null,\"sqft_max\":700,\"baths_max\":1,\"baths_full_calc\":null,\"beds\":null,\"type\":\"apartment\"},\"last_price_change_amount\":null,\"price_reduced_date\":null,\"property_history\":null,\"photo_count\":21,\"list_price\":null,\"lead_attributes\":{\"show_contact_an_agent\":true},\"list_price_max\":825,\"tags\":[\"community_no_fee\",\"central_air\",\"forced_air\",\"pets_allowed\",\"two_or_more_stories\",\"updated_kitchen\",\"open_floor_plan\",\"floor_plan\"],\"pet_policy\":{\"cats\":true,\"dogs\":true,\"dogs_large\":null,\"dogs_small\":null,\"text\":\"Per Pet\"},\"products\":{\"products\":[\"showcase_community\"],\"product_attributes\":null},\"suppression_flags\":null,\"status\":\"for_rent\",\"flags\":{\"is_deal_available\":null,\"is_senior_community\":null,\"is_new_listing\":false,\"is_for_rent\":true,\"is_garage_present\":null},\"community\":null,\"matterport\":false,\"primary_photo\":{\"href\":\"https:\\/\\/ar.rdcpix.com\\/b5f449396ef70fe284ccba22b0a20e9dc-f1006386364o.jpg\",\"type\":null,\"description\":null}},{\"photos\":[{\"title\":null,\"description\":null,\"tags\":null,\"href\":\"https:\\/\\/ar.rdcpix.com\\/56ec4eac389e01a13ad79447797f3b9fc-f1838303809o.jpg\",\"type\":null},{\"title\":null,\"description\":null,\"tags\":null,\"href\":\"https:\\/\\/ar.rdcpix.com\\/56ec4eac389e01a13ad79447797f3b9fc-f2342449186o.jpg\",\"type\":null}],\"branding\":{},\"other_listings\":{\"rdc\":[{\"listing_id\":\"612930825\",\"status\":\"for_rent\",\"primary\":true}]},\"list_price_min\":1620,\"href\":\"https:\\/\\/www.realtor.com\\/realestateandhomes-detail\\/35-W-Grand-River-Ave_Detroit_MI_48226_M33307-74404\",\"when_indexed\":\"2021-04-08T20:12:38.758Z\",\"last_sold_price\":null,\"property_id\":\"3330774404\",\"advertisers\":[{\"office\":{\"phones\":[{\"trackable\":null,\"number\":null,\"ext\":null,\"primary\":false,\"type\":\"office\"},{\"trackable\":null,\"number\":\"8447173859\",\"ext\":null,\"primary\":false,\"type\":\"primary\"},{\"trackable\":true,\"number\":\"8447173859\",\"ext\":null,\"primary\":false,\"type\":\"primary\"}],\"lead_email\":{\"to\":\"rentalservice@move.com\",\"cc\":null},\"photo\":null,\"name\":\"Bedrock Management Services LLC\",\"fulfillment_id\":null,\"href\":null,\"mls_set\":null,\"email\":\"rentalservice@move.com\"},\"broker\":null,\"name\":null,\"mls_set\":null,\"email\":null,\"nrds_id\":null,\"type\":\"management\",\"slogan\":null,\"photo\":null,\"href\":null,\"phones\":null,\"fulfillment_id\":null},{\"office\":{\"phones\":[{\"trackable\":null,\"number\":\"8447173859\",\"ext\":null,\"primary\":false,\"type\":\"office\"}],\"lead_email\":null,\"photo\":null,\"name\":\"35W\",\"fulfillment_id\":null,\"href\":null,\"mls_set\":null,\"email\":null},\"broker\":null,\"name\":null,\"mls_set\":null,\"email\":null,\"nrds_id\":null,\"type\":\"community\",\"slogan\":null,\"photo\":null,\"href\":null,\"phones\":null,\"fulfillment_id\":null}],\"virtual_tours\":null,\"seller_promotion\":null,\"listing_id\":\"612930825\",\"price_reduced_amount\":null,\"location\":{\"county\":{\"name\":\"Wayne\",\"state_code\":\"MI\",\"fips_code\":\"26163\"},\"address\":{\"street_post_direction\":null,\"street_number\":\"35\",\"state\":\"Michigan\",\"street_suffix\":\"Ave\",\"state_code\":\"MI\",\"unit\":null,\"postal_code\":\"48226\",\"street_direction\":\"W\",\"street_name\":\"Grand River\",\"country\":\"USA\",\"coordinate\":{\"lon\":-83.04923,\"lat\":42.3337},\"line\":\"35 W Grand River Ave\",\"city\":\"Detroit\"},\"search_areas\":[{\"city\":\"detroit\",\"state_code\":\"mi\"}],\"neighborhoods\":[{\"city\":\"Detroit\",\"level\":\"sub_neighborhood\",\"name\":\"Capitol Park Historic District\",\"state_code\":\"MI\",\"id\":\"c1570944-63df-5881-ab23-9a0d3519184f\"},{\"city\":\"Detroit\",\"level\":\"neighborhood\",\"name\":\"Downtown Detroit\",\"state_code\":\"MI\",\"id\":\"8503bffb-2bdf-59c8-a223-296d1f07a8b5\"}]},\"last_update_date\":\"2021-04-08T08:44:00Z\",\"source\":{\"agents\":null,\"community_id\":1840438,\"id\":\"CSTR\",\"listing_id\":\"hm9fsx2\",\"name\":null,\"raw\":null,\"type\":\"community\"},\"permalink\":\"35-W-Grand-River-Ave_Detroit_MI_48226_M33307-74404\",\"list_date\":\"2018-08-20T17:22:00Z\",\"open_houses\":null,\"last_sold_date\":null,\"last_price_change_date\":null,\"description\":{\"garage_max\":null,\"sqft_min\":639,\"baths_partial_calc\":null,\"baths_1qtr\":null,\"beds_max\":2,\"lot_sqft\":null,\"sub_type\":null,\"garage\":null,\"baths_3qtr\":null,\"garage_min\":null,\"beds_min\":1,\"baths_min\":1,\"name\":\"35W\",\"baths_half\":null,\"sqft\":null,\"year_built\":1922,\"baths\":null,\"baths_full\":null,\"sqft_max\":876,\"baths_max\":1.5,\"baths_full_calc\":null,\"beds\":null,\"type\":\"apartment\"},\"last_price_change_amount\":null,\"price_reduced_date\":null,\"property_history\":null,\"photo_count\":18,\"list_price\":null,\"lead_attributes\":{\"show_contact_an_agent\":true},\"list_price_max\":1900,\"tags\":[\"community_no_fee\",\"dishwasher\",\"hardwood_floors\",\"pets_allowed\",\"view\",\"two_or_more_stories\"],\"pet_policy\":{\"cats\":true,\"dogs\":true,\"dogs_large\":null,\"dogs_small\":null,\"text\":null},\"products\":{\"products\":[\"showcase_community\"],\"product_attributes\":null},\"suppression_flags\":null,\"status\":\"for_rent\",\"flags\":{\"is_deal_available\":null,\"is_senior_community\":null,\"is_new_listing\":false,\"is_for_rent\":true,\"is_garage_present\":null},\"community\":null,\"matterport\":false,\"primary_photo\":{\"href\":\"https:\\/\\/ar.rdcpix.com\\/56ec4eac389e01a13ad79447797f3b9fc-f1838303809o.jpg\",\"type\":null,\"description\":null}},{\"photos\":[{\"title\":null,\"description\":null,\"tags\":null,\"href\":\"https:\\/\\/ar.rdcpix.com\\/5d162d179db0d4dc93fb90ae723accc9c-f2424951407o.jpg\",\"type\":null},{\"title\":null,\"description\":null,\"tags\":null,\"href\":\"https:\\/\\/ar.rdcpix.com\\/5d162d179db0d4dc93fb90ae723accc9c-f1612426768o.jpg\",\"type\":null}],\"branding\":{},\"other_listings\":{\"rdc\":[{\"listing_id\":\"604090897\",\"status\":\"for_rent\",\"primary\":true}]},\"list_price_min\":995,\"href\":\"https:\\/\\/www.realtor.com\\/realestateandhomes-detail\\/28-W-Grand-River-Ave_Detroit_MI_48226_M91191-08217\",\"when_indexed\":\"2021-04-08T18:37:14.681Z\",\"last_sold_price\":null,\"property_id\":\"9119108217\",\"advertisers\":[{\"office\":{\"phones\":[{\"trackable\":null,\"number\":null,\"ext\":null,\"primary\":false,\"type\":\"office\"},{\"trackable\":null,\"number\":\"8448861644\",\"ext\":null,\"primary\":false,\"type\":\"primary\"},{\"trackable\":true,\"number\":\"8448861644\",\"ext\":null,\"primary\":false,\"type\":\"primary\"}],\"lead_email\":{\"to\":\"rentalservice@move.com\",\"cc\":null},\"photo\":null,\"name\":\"Bedrock Management Services LLC\",\"fulfillment_id\":null,\"href\":null,\"mls_set\":null,\"email\":\"rentalservice@move.com\"},\"broker\":null,\"name\":null,\"mls_set\":null,\"email\":null,\"nrds_id\":null,\"type\":\"management\",\"slogan\":null,\"photo\":null,\"href\":null,\"phones\":null,\"fulfillment_id\":null},{\"office\":{\"phones\":[{\"trackable\":null,\"number\":\"8448861644\",\"ext\":null,\"primary\":false,\"type\":\"office\"}],\"lead_email\":null,\"photo\":null,\"name\":\"28Grand\",\"fulfillment_id\":null,\"href\":null,\"mls_set\":null,\"email\":null},\"broker\":null,\"name\":null,\"mls_set\":null,\"email\":null,\"nrds_id\":null,\"type\":\"community\",\"slogan\":null,\"photo\":null,\"href\":null,\"phones\":null,\"fulfillment_id\":null}],\"virtual_tours\":null,\"seller_promotion\":null,\"listing_id\":\"604090897\",\"price_reduced_amount\":null,\"location\":{\"county\":{\"name\":\"Wayne\",\"state_code\":\"MI\",\"fips_code\":\"26163\"},\"address\":{\"street_post_direction\":null,\"street_number\":\"28\",\"state\":\"Michigan\",\"street_suffix\":\"Ave\",\"state_code\":\"MI\",\"unit\":null,\"postal_code\":\"48226\",\"street_direction\":\"W\",\"street_name\":\"Grand River\",\"country\":\"USA\",\"coordinate\":{\"lon\":-83.049532,\"lat\":42.334007},\"line\":\"28 W Grand River Ave\",\"city\":\"Detroit\"},\"search_areas\":[{\"city\":\"detroit\",\"state_code\":\"mi\"}],\"neighborhoods\":[{\"city\":\"Detroit\",\"level\":\"neighborhood\",\"name\":\"Downtown Detroit\",\"state_code\":\"MI\",\"id\":\"8503bffb-2bdf-59c8-a223-296d1f07a8b5\"}]},\"last_update_date\":\"2021-04-08T08:44:00Z\",\"source\":{\"agents\":null,\"community_id\":1674147,\"id\":\"CSTR\",\"listing_id\":\"p69rlfv\",\"name\":null,\"raw\":null,\"type\":\"community\"},\"permalink\":\"28-W-Grand-River-Ave_Detroit_MI_48226_M91191-08217\",\"list_date\":\"2017-10-22T15:16:00Z\",\"open_houses\":null,\"last_sold_date\":null,\"last_price_change_date\":null,\"description\":{\"garage_max\":null,\"sqft_min\":249,\"baths_partial_calc\":null,\"baths_1qtr\":null,\"beds_max\":0,\"lot_sqft\":null,\"sub_type\":null,\"garage\":null,\"baths_3qtr\":null,\"garage_min\":null,\"beds_min\":0,\"baths_min\":1,\"name\":\"28Grand\",\"baths_half\":null,\"sqft\":null,\"year_built\":2017,\"baths\":null,\"baths_full\":null,\"sqft_max\":279,\"baths_max\":1,\"baths_full_calc\":null,\"beds\":null,\"type\":\"apartment\"},\"last_price_change_amount\":null,\"price_reduced_date\":null,\"property_history\":null,\"photo_count\":17,\"list_price\":null,\"lead_attributes\":{\"show_contact_an_agent\":true},\"list_price_max\":1035,\"tags\":[\"community_no_fee\",\"central_air\",\"community_gym\",\"forced_air\",\"pets_allowed\",\"view\",\"single_story\"],\"pet_policy\":{\"cats\":true,\"dogs\":true,\"dogs_large\":null,\"dogs_small\":null,\"text\":\"Rental amount and Fee for 1 pet, multiple pet amounts are $50 Rent and $350 Fee\"},\"products\":{\"products\":[\"showcase_community\"],\"product_attributes\":null},\"suppression_flags\":null,\"status\":\"for_rent\",\"flags\":{\"is_deal_available\":null,\"is_senior_community\":null,\"is_new_listing\":false,\"is_for_rent\":true,\"is_garage_present\":null},\"community\":null,\"matterport\":false,\"primary_photo\":{\"href\":\"https:\\/\\/ar.rdcpix.com\\/5d162d179db0d4dc93fb90ae723accc9c-f2424951407o.jpg\",\"type\":null,\"description\":null}},{\"photos\":[{\"title\":null,\"description\":null,\"tags\":[{\"label\":\"house_view\",\"probability\":0.99276673793793},{\"label\":\"yard\",\"probability\":0.0066457423381507},{\"label\":\"porch_yard\",\"probability\":0.00031957324245013}],\"href\":\"https:\\/\\/ar.rdcpix.com\\/7d720200071c59c5f64a3a61ff2fea8ac-f1254888921o.jpg\",\"type\":null},{\"title\":null,\"description\":null,\"tags\":[{\"label\":\"house_view\",\"probability\":0.99996304512024},{\"label\":\"yard\",\"probability\":2.7729834982892e-05},{\"label\":\"road_view\",\"probability\":3.3075762075896e-06}],\"href\":\"https:\\/\\/ar.rdcpix.com\\/7d720200071c59c5f64a3a61ff2fea8ac-f1472796212o.jpg\",\"type\":null}],\"branding\":{},\"other_listings\":{\"rdc\":[{\"listing_id\":\"585167521\",\"status\":\"for_rent\",\"primary\":true},{\"listing_id\":\"569800173\",\"status\":\"off_market\",\"primary\":null},{\"listing_id\":\"569800177\",\"status\":\"off_market\",\"primary\":null},{\"listing_id\":\"548790177\",\"status\":\"off_market\",\"primary\":null},{\"listing_id\":\"2915478957\",\"status\":\"off_market\",\"primary\":null},{\"listing_id\":\"564744477\",\"status\":\"off_market\",\"primary\":null},{\"listing_id\":\"2915446757\",\"status\":\"off_market\",\"primary\":null},{\"listing_id\":\"571411577\",\"status\":\"off_market\",\"primary\":null},{\"listing_id\":\"571391329\",\"status\":\"off_market\",\"primary\":null}]},\"list_price_min\":595,\"href\":\"https:\\/\\/www.realtor.com\\/realestateandhomes-detail\\/18450-W-Chicago-St_Detroit_MI_48228_M47324-96514\",\"when_indexed\":\"2021-04-08T19:30:26.753Z\",\"last_sold_price\":null,\"property_id\":\"4732496514\",\"advertisers\":[{\"office\":{\"phones\":[{\"trackable\":null,\"number\":null,\"ext\":null,\"primary\":false,\"type\":\"office\"},{\"trackable\":null,\"number\":\"2483828736\",\"ext\":null,\"primary\":false,\"type\":\"primary\"},{\"trackable\":true,\"number\":\"2483828736\",\"ext\":null,\"primary\":false,\"type\":\"primary\"}],\"lead_email\":{\"to\":\"rentalservice@move.com\",\"cc\":null},\"photo\":null,\"name\":\"Odin Properties\",\"fulfillment_id\":null,\"href\":null,\"mls_set\":null,\"email\":\"rentalservice@move.com\"},\"broker\":null,\"name\":null,\"mls_set\":null,\"email\":null,\"nrds_id\":null,\"type\":\"management\",\"slogan\":null,\"photo\":null,\"href\":null,\"phones\":null,\"fulfillment_id\":null},{\"office\":{\"phones\":[{\"trackable\":null,\"number\":\"2483828736\",\"ext\":null,\"primary\":false,\"type\":\"office\"}],\"lead_email\":null,\"photo\":null,\"name\":\"Franklin Village Apartments\",\"fulfillment_id\":null,\"href\":null,\"mls_set\":null,\"email\":null},\"broker\":null,\"name\":null,\"mls_set\":null,\"email\":null,\"nrds_id\":null,\"type\":\"community\",\"slogan\":null,\"photo\":null,\"href\":null,\"phones\":null,\"fulfillment_id\":null}],\"virtual_tours\":null,\"seller_promotion\":null,\"listing_id\":\"585167521\",\"price_reduced_amount\":null,\"location\":{\"county\":{\"name\":\"Wayne\",\"state_code\":\"MI\",\"fips_code\":\"26163\"},\"address\":{\"street_post_direction\":null,\"street_number\":\"18450\",\"state\":\"Michigan\",\"street_suffix\":\"St\",\"state_code\":\"MI\",\"unit\":null,\"postal_code\":\"48228\",\"street_direction\":\"W\",\"street_name\":\"Chicago\",\"country\":\"USA\",\"coordinate\":{\"lon\":-83.22086,\"lat\":42.36523},\"line\":\"18450 W Chicago St\",\"city\":\"Detroit\"},\"search_areas\":[{\"city\":\"detroit\",\"state_code\":\"mi\"}],\"neighborhoods\":[{\"city\":\"Detroit\",\"level\":\"macro_neighborhood\",\"name\":\"Cody-Rouge\",\"state_code\":\"MI\",\"id\":\"b5325941-6a9c-5278-9ab6-0fa05f4f7951\"},{\"city\":\"Detroit\",\"level\":\"neighborhood\",\"name\":\"Franklin Park\",\"state_code\":\"MI\",\"id\":\"413116c9-8acd-58f4-a5a2-179027a14360\"}]},\"last_update_date\":\"2021-04-08T08:44:00Z\",\"source\":{\"agents\":null,\"community_id\":1311320,\"id\":\"CSTR\",\"listing_id\":\"k7rz7vc\",\"name\":null,\"raw\":null,\"type\":\"community\"},\"permalink\":\"18450-W-Chicago-St_Detroit_MI_48228_M47324-96514\",\"list_date\":\"2015-12-18T13:58:00Z\",\"open_houses\":null,\"last_sold_date\":null,\"last_price_change_date\":null,\"description\":{\"garage_max\":null,\"sqft_min\":575,\"baths_partial_calc\":null,\"baths_1qtr\":null,\"beds_max\":2,\"lot_sqft\":null,\"sub_type\":null,\"garage\":null,\"baths_3qtr\":null,\"garage_min\":null,\"beds_min\":1,\"baths_min\":1,\"name\":\"Franklin Village Apartments\",\"baths_half\":null,\"sqft\":null,\"year_built\":1964,\"baths\":null,\"baths_full\":null,\"sqft_max\":785,\"baths_max\":1,\"baths_full_calc\":null,\"beds\":null,\"type\":\"apartment\"},\"last_price_change_amount\":null,\"price_reduced_date\":null,\"property_history\":null,\"photo_count\":14,\"list_price\":null,\"lead_attributes\":{\"show_contact_an_agent\":true},\"list_price_max\":880,\"tags\":[\"community_no_fee\",\"garage_1_or_more\",\"hardwood_floors\",\"parking_garage\",\"pets_allowed\",\"swimming_pool\",\"washer_dryer\"],\"pet_policy\":{\"cats\":true,\"dogs\":true,\"dogs_large\":null,\"dogs_small\":true,\"text\":\"Cats and nonaggressive dog breeds welcome!\"},\"products\":{\"products\":[\"showcase_community\"],\"product_attributes\":null},\"suppression_flags\":null,\"status\":\"for_rent\",\"flags\":{\"is_deal_available\":null,\"is_senior_community\":null,\"is_new_listing\":false,\"is_for_rent\":true,\"is_garage_present\":null},\"community\":null,\"matterport\":false,\"primary_photo\":{\"href\":\"https:\\/\\/ar.rdcpix.com\\/7d720200071c59c5f64a3a61ff2fea8ac-f1254888921o.jpg\",\"type\":null,\"description\":null}}]}}\n"
     ]
    }
   ],
   "source": [
    "import requests\n",
    "import json\n",
    "\n",
    "url = \"https://realtor-com-real-estate.p.rapidapi.com/for-rent\"\n",
    "\n",
    "querystring = {\"city\":\"Detroit\",\"state_code\":\"MI\",\"limit\":\"42\",\"offset\":\"0\"}\n",
    "\n",
    "headers = {\n",
    "    'x-rapidapi-key': \"af2b0d8315mshd2cfb886121c4b2p149f15jsn85834aeacb17\",\n",
    "    'x-rapidapi-host': \"realtor-com-real-estate.p.rapidapi.com\"\n",
    "    }\n",
    "\n",
    "response = requests.request(\"GET\", url, headers=headers, params=querystring)\n",
    "\n",
    "print(response.text)"
   ]
  },
  {
   "cell_type": "code",
   "execution_count": 59,
   "metadata": {},
   "outputs": [],
   "source": [
    "import pandas as pd\n",
    "response1 = response.json()"
   ]
  },
  {
   "cell_type": "code",
   "execution_count": 72,
   "metadata": {},
   "outputs": [],
   "source": [
    "def process_json_response(response_json):\n",
    "\n",
    "    \"\"\"\n",
    "        Process the list for sale API response.\n",
    "        Convert each listing to a dataframe, append to a list, and concatenate to one dataframe.\n",
    "\n",
    "        Parameters\n",
    "        ----------\n",
    "        @response_json [dictionary]: API response from search_query\n",
    "\n",
    "        Returns\n",
    "        -------\n",
    "        [dataframe] Dataframe of all list for responses\n",
    "\n",
    "    \"\"\"\n",
    "\n",
    "        # empty dataframe\n",
    "    dataframe_list = []\n",
    "    if response_json is not None:\n",
    "       \n",
    "        # iterate through each for sale listing\n",
    "\n",
    "        for l in response_json[\"data\"][\"results\"]:\n",
    "\n",
    "                # convert each listing to dataframe\n",
    "            _temp_df = pd.DataFrame.from_dict(l).T   #, orient='index'\n",
    "            _temp_df = _temp_df.transpose()\n",
    "\n",
    "            # append to dataframe list for all listings\n",
    "            dataframe_list.append(_temp_df)\n",
    "\n",
    "            # concatenate all dataframes, for missing col values enter null value\n",
    "        return pd.concat(dataframe_list, axis=0, ignore_index=True, sort=False)\n",
    "    else:\n",
    "        \n",
    "        return None"
   ]
  },
  {
   "cell_type": "code",
   "execution_count": 73,
   "metadata": {},
   "outputs": [
    {
     "output_type": "error",
     "ename": "ValueError",
     "evalue": "arrays must all be same length",
     "traceback": [
      "\u001b[0;31m---------------------------------------------------------------------------\u001b[0m",
      "\u001b[0;31mValueError\u001b[0m                                Traceback (most recent call last)",
      "\u001b[0;32m<ipython-input-73-d488a844caae>\u001b[0m in \u001b[0;36m<module>\u001b[0;34m\u001b[0m\n\u001b[0;32m----> 1\u001b[0;31m \u001b[0mdf\u001b[0m \u001b[0;34m=\u001b[0m \u001b[0mprocess_json_response\u001b[0m\u001b[0;34m(\u001b[0m\u001b[0mresponse1\u001b[0m\u001b[0;34m)\u001b[0m\u001b[0;34m\u001b[0m\u001b[0;34m\u001b[0m\u001b[0m\n\u001b[0m",
      "\u001b[0;32m<ipython-input-72-db7144586181>\u001b[0m in \u001b[0;36mprocess_json_response\u001b[0;34m(response_json)\u001b[0m\n\u001b[1;32m     24\u001b[0m \u001b[0;34m\u001b[0m\u001b[0m\n\u001b[1;32m     25\u001b[0m                 \u001b[0;31m# convert each listing to dataframe\u001b[0m\u001b[0;34m\u001b[0m\u001b[0;34m\u001b[0m\u001b[0;34m\u001b[0m\u001b[0m\n\u001b[0;32m---> 26\u001b[0;31m             \u001b[0m_temp_df\u001b[0m \u001b[0;34m=\u001b[0m \u001b[0mpd\u001b[0m\u001b[0;34m.\u001b[0m\u001b[0mDataFrame\u001b[0m\u001b[0;34m.\u001b[0m\u001b[0mfrom_dict\u001b[0m\u001b[0;34m(\u001b[0m\u001b[0ml\u001b[0m\u001b[0;34m)\u001b[0m\u001b[0;34m.\u001b[0m\u001b[0mT\u001b[0m   \u001b[0;31m#, orient='index'\u001b[0m\u001b[0;34m\u001b[0m\u001b[0;34m\u001b[0m\u001b[0m\n\u001b[0m\u001b[1;32m     27\u001b[0m \u001b[0;34m\u001b[0m\u001b[0m\n\u001b[1;32m     28\u001b[0m             \u001b[0;31m# append to dataframe list for all listings\u001b[0m\u001b[0;34m\u001b[0m\u001b[0;34m\u001b[0m\u001b[0;34m\u001b[0m\u001b[0m\n",
      "\u001b[0;32m/Library/Frameworks/Python.framework/Versions/3.9/lib/python3.9/site-packages/pandas/core/frame.py\u001b[0m in \u001b[0;36mfrom_dict\u001b[0;34m(cls, data, orient, dtype, columns)\u001b[0m\n\u001b[1;32m   1371\u001b[0m             \u001b[0;32mraise\u001b[0m \u001b[0mValueError\u001b[0m\u001b[0;34m(\u001b[0m\u001b[0;34m\"only recognize index or columns for orient\"\u001b[0m\u001b[0;34m)\u001b[0m\u001b[0;34m\u001b[0m\u001b[0;34m\u001b[0m\u001b[0m\n\u001b[1;32m   1372\u001b[0m \u001b[0;34m\u001b[0m\u001b[0m\n\u001b[0;32m-> 1373\u001b[0;31m         \u001b[0;32mreturn\u001b[0m \u001b[0mcls\u001b[0m\u001b[0;34m(\u001b[0m\u001b[0mdata\u001b[0m\u001b[0;34m,\u001b[0m \u001b[0mindex\u001b[0m\u001b[0;34m=\u001b[0m\u001b[0mindex\u001b[0m\u001b[0;34m,\u001b[0m \u001b[0mcolumns\u001b[0m\u001b[0;34m=\u001b[0m\u001b[0mcolumns\u001b[0m\u001b[0;34m,\u001b[0m \u001b[0mdtype\u001b[0m\u001b[0;34m=\u001b[0m\u001b[0mdtype\u001b[0m\u001b[0;34m)\u001b[0m\u001b[0;34m\u001b[0m\u001b[0;34m\u001b[0m\u001b[0m\n\u001b[0m\u001b[1;32m   1374\u001b[0m \u001b[0;34m\u001b[0m\u001b[0m\n\u001b[1;32m   1375\u001b[0m     def to_numpy(\n",
      "\u001b[0;32m/Library/Frameworks/Python.framework/Versions/3.9/lib/python3.9/site-packages/pandas/core/frame.py\u001b[0m in \u001b[0;36m__init__\u001b[0;34m(self, data, index, columns, dtype, copy)\u001b[0m\n\u001b[1;32m    527\u001b[0m \u001b[0;34m\u001b[0m\u001b[0m\n\u001b[1;32m    528\u001b[0m         \u001b[0;32melif\u001b[0m \u001b[0misinstance\u001b[0m\u001b[0;34m(\u001b[0m\u001b[0mdata\u001b[0m\u001b[0;34m,\u001b[0m \u001b[0mdict\u001b[0m\u001b[0;34m)\u001b[0m\u001b[0;34m:\u001b[0m\u001b[0;34m\u001b[0m\u001b[0;34m\u001b[0m\u001b[0m\n\u001b[0;32m--> 529\u001b[0;31m             \u001b[0mmgr\u001b[0m \u001b[0;34m=\u001b[0m \u001b[0minit_dict\u001b[0m\u001b[0;34m(\u001b[0m\u001b[0mdata\u001b[0m\u001b[0;34m,\u001b[0m \u001b[0mindex\u001b[0m\u001b[0;34m,\u001b[0m \u001b[0mcolumns\u001b[0m\u001b[0;34m,\u001b[0m \u001b[0mdtype\u001b[0m\u001b[0;34m=\u001b[0m\u001b[0mdtype\u001b[0m\u001b[0;34m)\u001b[0m\u001b[0;34m\u001b[0m\u001b[0;34m\u001b[0m\u001b[0m\n\u001b[0m\u001b[1;32m    530\u001b[0m         \u001b[0;32melif\u001b[0m \u001b[0misinstance\u001b[0m\u001b[0;34m(\u001b[0m\u001b[0mdata\u001b[0m\u001b[0;34m,\u001b[0m \u001b[0mma\u001b[0m\u001b[0;34m.\u001b[0m\u001b[0mMaskedArray\u001b[0m\u001b[0;34m)\u001b[0m\u001b[0;34m:\u001b[0m\u001b[0;34m\u001b[0m\u001b[0;34m\u001b[0m\u001b[0m\n\u001b[1;32m    531\u001b[0m             \u001b[0;32mimport\u001b[0m \u001b[0mnumpy\u001b[0m\u001b[0;34m.\u001b[0m\u001b[0mma\u001b[0m\u001b[0;34m.\u001b[0m\u001b[0mmrecords\u001b[0m \u001b[0;32mas\u001b[0m \u001b[0mmrecords\u001b[0m\u001b[0;34m\u001b[0m\u001b[0;34m\u001b[0m\u001b[0m\n",
      "\u001b[0;32m/Library/Frameworks/Python.framework/Versions/3.9/lib/python3.9/site-packages/pandas/core/internals/construction.py\u001b[0m in \u001b[0;36minit_dict\u001b[0;34m(data, index, columns, dtype)\u001b[0m\n\u001b[1;32m    285\u001b[0m             \u001b[0marr\u001b[0m \u001b[0;32mif\u001b[0m \u001b[0;32mnot\u001b[0m \u001b[0mis_datetime64tz_dtype\u001b[0m\u001b[0;34m(\u001b[0m\u001b[0marr\u001b[0m\u001b[0;34m)\u001b[0m \u001b[0;32melse\u001b[0m \u001b[0marr\u001b[0m\u001b[0;34m.\u001b[0m\u001b[0mcopy\u001b[0m\u001b[0;34m(\u001b[0m\u001b[0;34m)\u001b[0m \u001b[0;32mfor\u001b[0m \u001b[0marr\u001b[0m \u001b[0;32min\u001b[0m \u001b[0marrays\u001b[0m\u001b[0;34m\u001b[0m\u001b[0;34m\u001b[0m\u001b[0m\n\u001b[1;32m    286\u001b[0m         ]\n\u001b[0;32m--> 287\u001b[0;31m     \u001b[0;32mreturn\u001b[0m \u001b[0marrays_to_mgr\u001b[0m\u001b[0;34m(\u001b[0m\u001b[0marrays\u001b[0m\u001b[0;34m,\u001b[0m \u001b[0mdata_names\u001b[0m\u001b[0;34m,\u001b[0m \u001b[0mindex\u001b[0m\u001b[0;34m,\u001b[0m \u001b[0mcolumns\u001b[0m\u001b[0;34m,\u001b[0m \u001b[0mdtype\u001b[0m\u001b[0;34m=\u001b[0m\u001b[0mdtype\u001b[0m\u001b[0;34m)\u001b[0m\u001b[0;34m\u001b[0m\u001b[0;34m\u001b[0m\u001b[0m\n\u001b[0m\u001b[1;32m    288\u001b[0m \u001b[0;34m\u001b[0m\u001b[0m\n\u001b[1;32m    289\u001b[0m \u001b[0;34m\u001b[0m\u001b[0m\n",
      "\u001b[0;32m/Library/Frameworks/Python.framework/Versions/3.9/lib/python3.9/site-packages/pandas/core/internals/construction.py\u001b[0m in \u001b[0;36marrays_to_mgr\u001b[0;34m(arrays, arr_names, index, columns, dtype, verify_integrity)\u001b[0m\n\u001b[1;32m     78\u001b[0m         \u001b[0;31m# figure out the index, if necessary\u001b[0m\u001b[0;34m\u001b[0m\u001b[0;34m\u001b[0m\u001b[0;34m\u001b[0m\u001b[0m\n\u001b[1;32m     79\u001b[0m         \u001b[0;32mif\u001b[0m \u001b[0mindex\u001b[0m \u001b[0;32mis\u001b[0m \u001b[0;32mNone\u001b[0m\u001b[0;34m:\u001b[0m\u001b[0;34m\u001b[0m\u001b[0;34m\u001b[0m\u001b[0m\n\u001b[0;32m---> 80\u001b[0;31m             \u001b[0mindex\u001b[0m \u001b[0;34m=\u001b[0m \u001b[0mextract_index\u001b[0m\u001b[0;34m(\u001b[0m\u001b[0marrays\u001b[0m\u001b[0;34m)\u001b[0m\u001b[0;34m\u001b[0m\u001b[0;34m\u001b[0m\u001b[0m\n\u001b[0m\u001b[1;32m     81\u001b[0m         \u001b[0;32melse\u001b[0m\u001b[0;34m:\u001b[0m\u001b[0;34m\u001b[0m\u001b[0;34m\u001b[0m\u001b[0m\n\u001b[1;32m     82\u001b[0m             \u001b[0mindex\u001b[0m \u001b[0;34m=\u001b[0m \u001b[0mensure_index\u001b[0m\u001b[0;34m(\u001b[0m\u001b[0mindex\u001b[0m\u001b[0;34m)\u001b[0m\u001b[0;34m\u001b[0m\u001b[0;34m\u001b[0m\u001b[0m\n",
      "\u001b[0;32m/Library/Frameworks/Python.framework/Versions/3.9/lib/python3.9/site-packages/pandas/core/internals/construction.py\u001b[0m in \u001b[0;36mextract_index\u001b[0;34m(data)\u001b[0m\n\u001b[1;32m    399\u001b[0m             \u001b[0mlengths\u001b[0m \u001b[0;34m=\u001b[0m \u001b[0mlist\u001b[0m\u001b[0;34m(\u001b[0m\u001b[0mset\u001b[0m\u001b[0;34m(\u001b[0m\u001b[0mraw_lengths\u001b[0m\u001b[0;34m)\u001b[0m\u001b[0;34m)\u001b[0m\u001b[0;34m\u001b[0m\u001b[0;34m\u001b[0m\u001b[0m\n\u001b[1;32m    400\u001b[0m             \u001b[0;32mif\u001b[0m \u001b[0mlen\u001b[0m\u001b[0;34m(\u001b[0m\u001b[0mlengths\u001b[0m\u001b[0;34m)\u001b[0m \u001b[0;34m>\u001b[0m \u001b[0;36m1\u001b[0m\u001b[0;34m:\u001b[0m\u001b[0;34m\u001b[0m\u001b[0;34m\u001b[0m\u001b[0m\n\u001b[0;32m--> 401\u001b[0;31m                 \u001b[0;32mraise\u001b[0m \u001b[0mValueError\u001b[0m\u001b[0;34m(\u001b[0m\u001b[0;34m\"arrays must all be same length\"\u001b[0m\u001b[0;34m)\u001b[0m\u001b[0;34m\u001b[0m\u001b[0;34m\u001b[0m\u001b[0m\n\u001b[0m\u001b[1;32m    402\u001b[0m \u001b[0;34m\u001b[0m\u001b[0m\n\u001b[1;32m    403\u001b[0m             \u001b[0;32mif\u001b[0m \u001b[0mhave_dicts\u001b[0m\u001b[0;34m:\u001b[0m\u001b[0;34m\u001b[0m\u001b[0;34m\u001b[0m\u001b[0m\n",
      "\u001b[0;31mValueError\u001b[0m: arrays must all be same length"
     ]
    }
   ],
   "source": [
    "df = process_json_response(response1)"
   ]
  },
  {
   "cell_type": "code",
   "execution_count": 51,
   "metadata": {
    "tags": []
   },
   "outputs": [
    {
     "output_type": "stream",
     "name": "stdout",
     "text": [
      "<class 'requests.models.Response'>\n"
     ]
    }
   ],
   "source": [
    "print(type(response))"
   ]
  },
  {
   "cell_type": "code",
   "execution_count": 50,
   "metadata": {},
   "outputs": [
    {
     "output_type": "error",
     "ename": "AttributeError",
     "evalue": "'Response' object has no attribute 'items'",
     "traceback": [
      "\u001b[0;31m---------------------------------------------------------------------------\u001b[0m",
      "\u001b[0;31mAttributeError\u001b[0m                            Traceback (most recent call last)",
      "\u001b[0;32m<ipython-input-50-62be73e3b05e>\u001b[0m in \u001b[0;36m<module>\u001b[0;34m\u001b[0m\n\u001b[0;32m----> 1\u001b[0;31m \u001b[0mlist\u001b[0m\u001b[0;34m(\u001b[0m\u001b[0mresponse\u001b[0m\u001b[0;34m.\u001b[0m\u001b[0mitems\u001b[0m\u001b[0;34m(\u001b[0m\u001b[0;34m)\u001b[0m\u001b[0;34m)\u001b[0m\u001b[0;34m[\u001b[0m\u001b[0;36m0\u001b[0m\u001b[0;34m]\u001b[0m\u001b[0;34m[\u001b[0m\u001b[0;36m0\u001b[0m\u001b[0;34m]\u001b[0m\u001b[0;34m\u001b[0m\u001b[0;34m\u001b[0m\u001b[0m\n\u001b[0m",
      "\u001b[0;31mAttributeError\u001b[0m: 'Response' object has no attribute 'items'"
     ]
    }
   ],
   "source": [
    "list(response.items())[0][0]"
   ]
  },
  {
   "cell_type": "code",
   "execution_count": 63,
   "metadata": {
    "tags": []
   },
   "outputs": [],
   "source": [
    "re = json.loads(response.text)"
   ]
  },
  {
   "cell_type": "code",
   "execution_count": 66,
   "metadata": {},
   "outputs": [
    {
     "output_type": "execute_result",
     "data": {
      "text/plain": [
       "dict"
      ]
     },
     "metadata": {},
     "execution_count": 66
    }
   ],
   "source": [
    "type(re)"
   ]
  },
  {
   "cell_type": "code",
   "execution_count": null,
   "metadata": {},
   "outputs": [],
   "source": []
  }
 ]
}