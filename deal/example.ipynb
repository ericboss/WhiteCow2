{
 "metadata": {
  "language_info": {
   "codemirror_mode": {
    "name": "ipython",
    "version": 3
   },
   "file_extension": ".py",
   "mimetype": "text/x-python",
   "name": "python",
   "nbconvert_exporter": "python",
   "pygments_lexer": "ipython3",
   "version": "3.9.2"
  },
  "orig_nbformat": 2,
  "kernelspec": {
   "name": "python392jvsc74a57bd0aee8b7b246df8f9039afb4144a1f6fd8d2ca17a180786b69acc140d282b71a49",
   "display_name": "Python 3.9.2 64-bit"
  },
  "metadata": {
   "interpreter": {
    "hash": "aee8b7b246df8f9039afb4144a1f6fd8d2ca17a180786b69acc140d282b71a49"
   }
  }
 },
 "nbformat": 4,
 "nbformat_minor": 2,
 "cells": [
  {
   "cell_type": "code",
   "execution_count": 38,
   "metadata": {},
   "outputs": [
    {
     "output_type": "execute_result",
     "data": {
      "text/plain": [
       "Unnamed: 0                int64\n",
       "property_id              object\n",
       "listing_id                int64\n",
       "products                 object\n",
       "rdc_web_url              object\n",
       "prop_type                object\n",
       "address                  object\n",
       "branding                 object\n",
       "prop_status              object\n",
       "price                     int64\n",
       "baths_full                int64\n",
       "baths                     int64\n",
       "beds                      int64\n",
       "building_size            object\n",
       "agents                   object\n",
       "office                   object\n",
       "last_update              object\n",
       "client_display_flags     object\n",
       "lead_forms               object\n",
       "photo_count               int64\n",
       "thumbnail                object\n",
       "page_no                   int64\n",
       "rank                      int64\n",
       "list_tracking            object\n",
       "lot_size                 object\n",
       "mls                      object\n",
       "data_source_name         object\n",
       "baths_half              float64\n",
       "virtual_tour             object\n",
       "dtype: object"
      ]
     },
     "metadata": {},
     "execution_count": 38
    }
   ],
   "source": [
    "import pandas as pd\n",
    "df = pd.read_csv('/Users/home/Downloads/for_sale.csv')\n",
    "df.dtypes"
   ]
  },
  {
   "cell_type": "code",
   "execution_count": 39,
   "metadata": {},
   "outputs": [
    {
     "output_type": "execute_result",
     "data": {
      "text/plain": [
       "'task1'"
      ]
     },
     "metadata": {},
     "execution_count": 39
    }
   ],
   "source": [
    "\"task\"+str(1)"
   ]
  },
  {
   "cell_type": "code",
   "execution_count": 40,
   "metadata": {},
   "outputs": [],
   "source": [
    "aa = {'a':23, 'b':22}\n",
    "bb = {'c':30, 'd':98}\n",
    "\n",
    "def func():\n",
    "    return aa, bb"
   ]
  },
  {
   "cell_type": "code",
   "execution_count": 41,
   "metadata": {},
   "outputs": [
    {
     "output_type": "execute_result",
     "data": {
      "text/plain": [
       "{'a': 23, 'b': 22}"
      ]
     },
     "metadata": {},
     "execution_count": 41
    }
   ],
   "source": [
    "func()[0]"
   ]
  },
  {
   "cell_type": "code",
   "execution_count": 42,
   "metadata": {},
   "outputs": [
    {
     "output_type": "execute_result",
     "data": {
      "text/plain": [
       "False"
      ]
     },
     "metadata": {},
     "execution_count": 42
    }
   ],
   "source": [
    "er = {'a':''}\n",
    "er['a']==None"
   ]
  },
  {
   "cell_type": "code",
   "execution_count": 43,
   "metadata": {},
   "outputs": [],
   "source": [
    "def sum():\n",
    "    return 34\n"
   ]
  },
  {
   "cell_type": "code",
   "execution_count": 44,
   "metadata": {},
   "outputs": [],
   "source": [
    "def sum():\n",
    "    return 6"
   ]
  },
  {
   "cell_type": "code",
   "execution_count": 45,
   "metadata": {},
   "outputs": [
    {
     "output_type": "execute_result",
     "data": {
      "text/plain": [
       "6"
      ]
     },
     "metadata": {},
     "execution_count": 45
    }
   ],
   "source": [
    "sum()"
   ]
  },
  {
   "cell_type": "code",
   "execution_count": 58,
   "metadata": {
    "tags": [
     "outputPrepend"
    ]
   },
   "outputs": [
    {
     "output_type": "stream",
     "name": "stdout",
     "text": [
      "\":\"office\"},{\"trackable\":null,\"number\":\"4422680149\",\"ext\":null,\"primary\":false,\"type\":\"primary\"},{\"trackable\":true,\"number\":\"4422680149\",\"ext\":null,\"primary\":false,\"type\":\"primary\"}],\"lead_email\":{\"to\":\"rentalservice@move.com\",\"cc\":null},\"photo\":null,\"name\":\"Princeton Enterprises, LLC\",\"fulfillment_id\":null,\"href\":null,\"mls_set\":null,\"email\":\"rentalservice@move.com\"},\"broker\":null,\"name\":null,\"mls_set\":null,\"email\":null,\"nrds_id\":null,\"type\":\"management\",\"slogan\":null,\"photo\":null,\"href\":null,\"phones\":null,\"fulfillment_id\":null},{\"office\":{\"phones\":[{\"trackable\":null,\"number\":\"4422680149\",\"ext\":null,\"primary\":false,\"type\":\"office\"}],\"lead_email\":null,\"photo\":null,\"name\":\"Cityside Apartments and Townhomes\",\"fulfillment_id\":null,\"href\":null,\"mls_set\":null,\"email\":null},\"broker\":null,\"name\":null,\"mls_set\":null,\"email\":null,\"nrds_id\":null,\"type\":\"community\",\"slogan\":null,\"photo\":null,\"href\":null,\"phones\":null,\"fulfillment_id\":null}],\"virtual_tours\":null,\"seller_promotion\":null,\"listing_id\":\"612930637\",\"price_reduced_amount\":null,\"location\":{\"county\":{\"name\":\"Wayne\",\"state_code\":\"MI\",\"fips_code\":\"26163\"},\"address\":{\"street_post_direction\":null,\"street_number\":\"2716\",\"state\":\"Michigan\",\"street_suffix\":\"St\",\"state_code\":\"MI\",\"unit\":null,\"postal_code\":\"48207\",\"street_direction\":null,\"street_name\":\"Macomb\",\"country\":\"USA\",\"coordinate\":{\"lon\":-83.02486,\"lat\":42.34316},\"line\":\"2716 Macomb St\",\"city\":\"Detroit\"},\"search_areas\":[{\"city\":\"detroit\",\"state_code\":\"mi\"}],\"neighborhoods\":[{\"city\":\"Detroit\",\"level\":\"neighborhood\",\"name\":\"Elmwood Park\",\"state_code\":\"MI\",\"id\":\"32b85805-046f-51ba-afff-e1cb58af300a\"}]},\"last_update_date\":\"2021-04-08T08:44:00Z\",\"source\":{\"agents\":null,\"community_id\":1840726,\"id\":\"CSTR\",\"listing_id\":\"lhe5x0e\",\"name\":null,\"raw\":null,\"type\":\"community\"},\"permalink\":\"2716-Macomb-St_Detroit_MI_48207_M36276-05647\",\"list_date\":\"2018-08-20T17:22:00Z\",\"open_houses\":null,\"last_sold_date\":null,\"last_price_change_date\":null,\"description\":{\"garage_max\":null,\"sqft_min\":545,\"baths_partial_calc\":null,\"baths_1qtr\":null,\"beds_max\":4,\"lot_sqft\":null,\"sub_type\":null,\"garage\":null,\"baths_3qtr\":null,\"garage_min\":null,\"beds_min\":1,\"baths_min\":1,\"name\":\"Cityside Apartments and Townhomes\",\"baths_half\":null,\"sqft\":null,\"year_built\":1975,\"baths\":null,\"baths_full\":null,\"sqft_max\":1200,\"baths_max\":2,\"baths_full_calc\":null,\"beds\":null,\"type\":\"apartment\"},\"last_price_change_amount\":null,\"price_reduced_date\":null,\"property_history\":null,\"photo_count\":28,\"list_price\":null,\"lead_attributes\":{\"show_contact_an_agent\":true},\"list_price_max\":1600,\"tags\":[\"community_no_fee\",\"central_air\",\"dishwasher\",\"forced_air\",\"pets_allowed\",\"swimming_pool\",\"view\",\"washer_dryer\"],\"pet_policy\":{\"cats\":true,\"dogs\":true,\"dogs_large\":null,\"dogs_small\":true,\"text\":null},\"products\":{\"products\":[\"showcase_community\"],\"product_attributes\":null},\"suppression_flags\":null,\"status\":\"for_rent\",\"flags\":{\"is_deal_available\":null,\"is_senior_community\":null,\"is_new_listing\":false,\"is_for_rent\":true,\"is_garage_present\":null},\"community\":null,\"matterport\":false,\"primary_photo\":{\"href\":\"https:\\/\\/ar.rdcpix.com\\/125944411\\/299b9db03e392150137c9d7dfc1938aac-f0o.jpg\",\"type\":null,\"description\":null}},{\"photos\":[{\"title\":null,\"description\":null,\"tags\":null,\"href\":\"https:\\/\\/ar.rdcpix.com\\/b5f449396ef70fe284ccba22b0a20e9dc-f1006386364o.jpg\",\"type\":null},{\"title\":null,\"description\":null,\"tags\":null,\"href\":\"https:\\/\\/ar.rdcpix.com\\/b5f449396ef70fe284ccba22b0a20e9dc-f234543375o.jpg\",\"type\":null}],\"branding\":{},\"other_listings\":{\"rdc\":[{\"listing_id\":\"2924659916\",\"status\":\"for_rent\",\"primary\":true}]},\"list_price_min\":825,\"href\":\"https:\\/\\/www.realtor.com\\/realestateandhomes-detail\\/17435-17529-Manderson-Rd_Detroit_MI_48203_M95661-86525\",\"when_indexed\":\"2021-04-08T21:53:26.590Z\",\"last_sold_price\":null,\"property_id\":\"9566186525\",\"advertisers\":[{\"office\":{\"phones\":[{\"trackable\":null,\"number\":null,\"ext\":null,\"primary\":false,\"type\":\"office\"},{\"trackable\":null,\"number\":\"2482211996\",\"ext\":null,\"primary\":false,\"type\":\"primary\"},{\"trackable\":true,\"number\":\"2482211996\",\"ext\":null,\"primary\":false,\"type\":\"primary\"}],\"lead_email\":{\"to\":\"rentalservice@move.com\",\"cc\":null},\"photo\":null,\"name\":\"Urbane Management\",\"fulfillment_id\":null,\"href\":null,\"mls_set\":null,\"email\":\"rentalservice@move.com\"},\"broker\":null,\"name\":null,\"mls_set\":null,\"email\":null,\"nrds_id\":null,\"type\":\"management\",\"slogan\":null,\"photo\":null,\"href\":null,\"phones\":null,\"fulfillment_id\":null},{\"office\":{\"phones\":[{\"trackable\":null,\"number\":\"2482211996\",\"ext\":null,\"primary\":false,\"type\":\"office\"}],\"lead_email\":null,\"photo\":null,\"name\":\"Urbane Manderson\",\"fulfillment_id\":null,\"href\":null,\"mls_set\":null,\"email\":null},\"broker\":null,\"name\":null,\"mls_set\":null,\"email\":null,\"nrds_id\":null,\"type\":\"community\",\"slogan\":null,\"photo\":null,\"href\":null,\"phones\":null,\"fulfillment_id\":null}],\"virtual_tours\":null,\"seller_promotion\":null,\"listing_id\":\"2924659916\",\"price_reduced_amount\":null,\"location\":{\"county\":{\"name\":\"Wayne\",\"state_code\":\"MI\",\"fips_code\":\"26163\"},\"address\":{\"street_post_direction\":null,\"street_number\":\"17435-17529\",\"state\":\"Michigan\",\"street_suffix\":\"Rd\",\"state_code\":\"MI\",\"unit\":null,\"postal_code\":\"48203\",\"street_direction\":null,\"street_name\":\"Manderson\",\"country\":\"USA\",\"coordinate\":{\"lon\":-83.116546,\"lat\":42.419479},\"line\":\"17435-17529 Manderson Rd\",\"city\":\"Detroit\"},\"search_areas\":[{\"city\":\"detroit\",\"state_code\":\"mi\"}],\"neighborhoods\":[{\"city\":\"Detroit\",\"level\":\"neighborhood\",\"name\":\"Palmer Park\",\"state_code\":\"MI\",\"id\":\"071fd585-50d0-56f4-9bf6-239172952cd0\"}]},\"last_update_date\":\"2021-04-08T08:44:00Z\",\"source\":{\"agents\":null,\"community_id\":2352138,\"id\":\"CSTR\",\"listing_id\":\"ej82m1p\",\"name\":null,\"raw\":null,\"type\":\"community\"},\"permalink\":\"17435-17529-Manderson-Rd_Detroit_MI_48203_M95661-86525\",\"list_date\":\"2021-01-01T02:26:00Z\",\"open_houses\":null,\"last_sold_date\":null,\"last_price_change_date\":null,\"description\":{\"garage_max\":null,\"sqft_min\":700,\"baths_partial_calc\":null,\"baths_1qtr\":null,\"beds_max\":1,\"lot_sqft\":null,\"sub_type\":null,\"garage\":null,\"baths_3qtr\":null,\"garage_min\":null,\"beds_min\":1,\"baths_min\":1,\"name\":\"Urbane Manderson\",\"baths_half\":null,\"sqft\":null,\"year_built\":1941,\"baths\":null,\"baths_full\":null,\"sqft_max\":700,\"baths_max\":1,\"baths_full_calc\":null,\"beds\":null,\"type\":\"apartment\"},\"last_price_change_amount\":null,\"price_reduced_date\":null,\"property_history\":null,\"photo_count\":21,\"list_price\":null,\"lead_attributes\":{\"show_contact_an_agent\":true},\"list_price_max\":825,\"tags\":[\"community_no_fee\",\"central_air\",\"forced_air\",\"pets_allowed\",\"two_or_more_stories\",\"updated_kitchen\",\"open_floor_plan\",\"floor_plan\"],\"pet_policy\":{\"cats\":true,\"dogs\":true,\"dogs_large\":null,\"dogs_small\":null,\"text\":\"Per Pet\"},\"products\":{\"products\":[\"showcase_community\"],\"product_attributes\":null},\"suppression_flags\":null,\"status\":\"for_rent\",\"flags\":{\"is_deal_available\":null,\"is_senior_community\":null,\"is_new_listing\":false,\"is_for_rent\":true,\"is_garage_present\":null},\"community\":null,\"matterport\":false,\"primary_photo\":{\"href\":\"https:\\/\\/ar.rdcpix.com\\/b5f449396ef70fe284ccba22b0a20e9dc-f1006386364o.jpg\",\"type\":null,\"description\":null}},{\"photos\":[{\"title\":null,\"description\":null,\"tags\":null,\"href\":\"https:\\/\\/ar.rdcpix.com\\/56ec4eac389e01a13ad79447797f3b9fc-f1838303809o.jpg\",\"type\":null},{\"title\":null,\"description\":null,\"tags\":null,\"href\":\"https:\\/\\/ar.rdcpix.com\\/56ec4eac389e01a13ad79447797f3b9fc-f2342449186o.jpg\",\"type\":null}],\"branding\":{},\"other_listings\":{\"rdc\":[{\"listing_id\":\"612930825\",\"status\":\"for_rent\",\"primary\":true}]},\"list_price_min\":1620,\"href\":\"https:\\/\\/www.realtor.com\\/realestateandhomes-detail\\/35-W-Grand-River-Ave_Detroit_MI_48226_M33307-74404\",\"when_indexed\":\"2021-04-08T20:12:38.758Z\",\"last_sold_price\":null,\"property_id\":\"3330774404\",\"advertisers\":[{\"office\":{\"phones\":[{\"trackable\":null,\"number\":null,\"ext\":null,\"primary\":false,\"type\":\"office\"},{\"trackable\":null,\"number\":\"8447173859\",\"ext\":null,\"primary\":false,\"type\":\"primary\"},{\"trackable\":true,\"number\":\"8447173859\",\"ext\":null,\"primary\":false,\"type\":\"primary\"}],\"lead_email\":{\"to\":\"rentalservice@move.com\",\"cc\":null},\"photo\":null,\"name\":\"Bedrock Management Services LLC\",\"fulfillment_id\":null,\"href\":null,\"mls_set\":null,\"email\":\"rentalservice@move.com\"},\"broker\":null,\"name\":null,\"mls_set\":null,\"email\":null,\"nrds_id\":null,\"type\":\"management\",\"slogan\":null,\"photo\":null,\"href\":null,\"phones\":null,\"fulfillment_id\":null},{\"office\":{\"phones\":[{\"trackable\":null,\"number\":\"8447173859\",\"ext\":null,\"primary\":false,\"type\":\"office\"}],\"lead_email\":null,\"photo\":null,\"name\":\"35W\",\"fulfillment_id\":null,\"href\":null,\"mls_set\":null,\"email\":null},\"broker\":null,\"name\":null,\"mls_set\":null,\"email\":null,\"nrds_id\":null,\"type\":\"community\",\"slogan\":null,\"photo\":null,\"href\":null,\"phones\":null,\"fulfillment_id\":null}],\"virtual_tours\":null,\"seller_promotion\":null,\"listing_id\":\"612930825\",\"price_reduced_amount\":null,\"location\":{\"county\":{\"name\":\"Wayne\",\"state_code\":\"MI\",\"fips_code\":\"26163\"},\"address\":{\"street_post_direction\":null,\"street_number\":\"35\",\"state\":\"Michigan\",\"street_suffix\":\"Ave\",\"state_code\":\"MI\",\"unit\":null,\"postal_code\":\"48226\",\"street_direction\":\"W\",\"street_name\":\"Grand River\",\"country\":\"USA\",\"coordinate\":{\"lon\":-83.04923,\"lat\":42.3337},\"line\":\"35 W Grand River Ave\",\"city\":\"Detroit\"},\"search_areas\":[{\"city\":\"detroit\",\"state_code\":\"mi\"}],\"neighborhoods\":[{\"city\":\"Detroit\",\"level\":\"sub_neighborhood\",\"name\":\"Capitol Park Historic District\",\"state_code\":\"MI\",\"id\":\"c1570944-63df-5881-ab23-9a0d3519184f\"},{\"city\":\"Detroit\",\"level\":\"neighborhood\",\"name\":\"Downtown Detroit\",\"state_code\":\"MI\",\"id\":\"8503bffb-2bdf-59c8-a223-296d1f07a8b5\"}]},\"last_update_date\":\"2021-04-08T08:44:00Z\",\"source\":{\"agents\":null,\"community_id\":1840438,\"id\":\"CSTR\",\"listing_id\":\"hm9fsx2\",\"name\":null,\"raw\":null,\"type\":\"community\"},\"permalink\":\"35-W-Grand-River-Ave_Detroit_MI_48226_M33307-74404\",\"list_date\":\"2018-08-20T17:22:00Z\",\"open_houses\":null,\"last_sold_date\":null,\"last_price_change_date\":null,\"description\":{\"garage_max\":null,\"sqft_min\":639,\"baths_partial_calc\":null,\"baths_1qtr\":null,\"beds_max\":2,\"lot_sqft\":null,\"sub_type\":null,\"garage\":null,\"baths_3qtr\":null,\"garage_min\":null,\"beds_min\":1,\"baths_min\":1,\"name\":\"35W\",\"baths_half\":null,\"sqft\":null,\"year_built\":1922,\"baths\":null,\"baths_full\":null,\"sqft_max\":876,\"baths_max\":1.5,\"baths_full_calc\":null,\"beds\":null,\"type\":\"apartment\"},\"last_price_change_amount\":null,\"price_reduced_date\":null,\"property_history\":null,\"photo_count\":18,\"list_price\":null,\"lead_attributes\":{\"show_contact_an_agent\":true},\"list_price_max\":1900,\"tags\":[\"community_no_fee\",\"dishwasher\",\"hardwood_floors\",\"pets_allowed\",\"view\",\"two_or_more_stories\"],\"pet_policy\":{\"cats\":true,\"dogs\":true,\"dogs_large\":null,\"dogs_small\":null,\"text\":null},\"products\":{\"products\":[\"showcase_community\"],\"product_attributes\":null},\"suppression_flags\":null,\"status\":\"for_rent\",\"flags\":{\"is_deal_available\":null,\"is_senior_community\":null,\"is_new_listing\":false,\"is_for_rent\":true,\"is_garage_present\":null},\"community\":null,\"matterport\":false,\"primary_photo\":{\"href\":\"https:\\/\\/ar.rdcpix.com\\/56ec4eac389e01a13ad79447797f3b9fc-f1838303809o.jpg\",\"type\":null,\"description\":null}},{\"photos\":[{\"title\":null,\"description\":null,\"tags\":null,\"href\":\"https:\\/\\/ar.rdcpix.com\\/5d162d179db0d4dc93fb90ae723accc9c-f2424951407o.jpg\",\"type\":null},{\"title\":null,\"description\":null,\"tags\":null,\"href\":\"https:\\/\\/ar.rdcpix.com\\/5d162d179db0d4dc93fb90ae723accc9c-f1612426768o.jpg\",\"type\":null}],\"branding\":{},\"other_listings\":{\"rdc\":[{\"listing_id\":\"604090897\",\"status\":\"for_rent\",\"primary\":true}]},\"list_price_min\":995,\"href\":\"https:\\/\\/www.realtor.com\\/realestateandhomes-detail\\/28-W-Grand-River-Ave_Detroit_MI_48226_M91191-08217\",\"when_indexed\":\"2021-04-08T18:37:14.681Z\",\"last_sold_price\":null,\"property_id\":\"9119108217\",\"advertisers\":[{\"office\":{\"phones\":[{\"trackable\":null,\"number\":null,\"ext\":null,\"primary\":false,\"type\":\"office\"},{\"trackable\":null,\"number\":\"8448861644\",\"ext\":null,\"primary\":false,\"type\":\"primary\"},{\"trackable\":true,\"number\":\"8448861644\",\"ext\":null,\"primary\":false,\"type\":\"primary\"}],\"lead_email\":{\"to\":\"rentalservice@move.com\",\"cc\":null},\"photo\":null,\"name\":\"Bedrock Management Services LLC\",\"fulfillment_id\":null,\"href\":null,\"mls_set\":null,\"email\":\"rentalservice@move.com\"},\"broker\":null,\"name\":null,\"mls_set\":null,\"email\":null,\"nrds_id\":null,\"type\":\"management\",\"slogan\":null,\"photo\":null,\"href\":null,\"phones\":null,\"fulfillment_id\":null},{\"office\":{\"phones\":[{\"trackable\":null,\"number\":\"8448861644\",\"ext\":null,\"primary\":false,\"type\":\"office\"}],\"lead_email\":null,\"photo\":null,\"name\":\"28Grand\",\"fulfillment_id\":null,\"href\":null,\"mls_set\":null,\"email\":null},\"broker\":null,\"name\":null,\"mls_set\":null,\"email\":null,\"nrds_id\":null,\"type\":\"community\",\"slogan\":null,\"photo\":null,\"href\":null,\"phones\":null,\"fulfillment_id\":null}],\"virtual_tours\":null,\"seller_promotion\":null,\"listing_id\":\"604090897\",\"price_reduced_amount\":null,\"location\":{\"county\":{\"name\":\"Wayne\",\"state_code\":\"MI\",\"fips_code\":\"26163\"},\"address\":{\"street_post_direction\":null,\"street_number\":\"28\",\"state\":\"Michigan\",\"street_suffix\":\"Ave\",\"state_code\":\"MI\",\"unit\":null,\"postal_code\":\"48226\",\"street_direction\":\"W\",\"street_name\":\"Grand River\",\"country\":\"USA\",\"coordinate\":{\"lon\":-83.049532,\"lat\":42.334007},\"line\":\"28 W Grand River Ave\",\"city\":\"Detroit\"},\"search_areas\":[{\"city\":\"detroit\",\"state_code\":\"mi\"}],\"neighborhoods\":[{\"city\":\"Detroit\",\"level\":\"neighborhood\",\"name\":\"Downtown Detroit\",\"state_code\":\"MI\",\"id\":\"8503bffb-2bdf-59c8-a223-296d1f07a8b5\"}]},\"last_update_date\":\"2021-04-08T08:44:00Z\",\"source\":{\"agents\":null,\"community_id\":1674147,\"id\":\"CSTR\",\"listing_id\":\"p69rlfv\",\"name\":null,\"raw\":null,\"type\":\"community\"},\"permalink\":\"28-W-Grand-River-Ave_Detroit_MI_48226_M91191-08217\",\"list_date\":\"2017-10-22T15:16:00Z\",\"open_houses\":null,\"last_sold_date\":null,\"last_price_change_date\":null,\"description\":{\"garage_max\":null,\"sqft_min\":249,\"baths_partial_calc\":null,\"baths_1qtr\":null,\"beds_max\":0,\"lot_sqft\":null,\"sub_type\":null,\"garage\":null,\"baths_3qtr\":null,\"garage_min\":null,\"beds_min\":0,\"baths_min\":1,\"name\":\"28Grand\",\"baths_half\":null,\"sqft\":null,\"year_built\":2017,\"baths\":null,\"baths_full\":null,\"sqft_max\":279,\"baths_max\":1,\"baths_full_calc\":null,\"beds\":null,\"type\":\"apartment\"},\"last_price_change_amount\":null,\"price_reduced_date\":null,\"property_history\":null,\"photo_count\":17,\"list_price\":null,\"lead_attributes\":{\"show_contact_an_agent\":true},\"list_price_max\":1035,\"tags\":[\"community_no_fee\",\"central_air\",\"community_gym\",\"forced_air\",\"pets_allowed\",\"view\",\"single_story\"],\"pet_policy\":{\"cats\":true,\"dogs\":true,\"dogs_large\":null,\"dogs_small\":null,\"text\":\"Rental amount and Fee for 1 pet, multiple pet amounts are $50 Rent and $350 Fee\"},\"products\":{\"products\":[\"showcase_community\"],\"product_attributes\":null},\"suppression_flags\":null,\"status\":\"for_rent\",\"flags\":{\"is_deal_available\":null,\"is_senior_community\":null,\"is_new_listing\":false,\"is_for_rent\":true,\"is_garage_present\":null},\"community\":null,\"matterport\":false,\"primary_photo\":{\"href\":\"https:\\/\\/ar.rdcpix.com\\/5d162d179db0d4dc93fb90ae723accc9c-f2424951407o.jpg\",\"type\":null,\"description\":null}},{\"photos\":[{\"title\":null,\"description\":null,\"tags\":[{\"label\":\"house_view\",\"probability\":0.99276673793793},{\"label\":\"yard\",\"probability\":0.0066457423381507},{\"label\":\"porch_yard\",\"probability\":0.00031957324245013}],\"href\":\"https:\\/\\/ar.rdcpix.com\\/7d720200071c59c5f64a3a61ff2fea8ac-f1254888921o.jpg\",\"type\":null},{\"title\":null,\"description\":null,\"tags\":[{\"label\":\"house_view\",\"probability\":0.99996304512024},{\"label\":\"yard\",\"probability\":2.7729834982892e-05},{\"label\":\"road_view\",\"probability\":3.3075762075896e-06}],\"href\":\"https:\\/\\/ar.rdcpix.com\\/7d720200071c59c5f64a3a61ff2fea8ac-f1472796212o.jpg\",\"type\":null}],\"branding\":{},\"other_listings\":{\"rdc\":[{\"listing_id\":\"585167521\",\"status\":\"for_rent\",\"primary\":true},{\"listing_id\":\"569800173\",\"status\":\"off_market\",\"primary\":null},{\"listing_id\":\"569800177\",\"status\":\"off_market\",\"primary\":null},{\"listing_id\":\"548790177\",\"status\":\"off_market\",\"primary\":null},{\"listing_id\":\"2915478957\",\"status\":\"off_market\",\"primary\":null},{\"listing_id\":\"564744477\",\"status\":\"off_market\",\"primary\":null},{\"listing_id\":\"2915446757\",\"status\":\"off_market\",\"primary\":null},{\"listing_id\":\"571411577\",\"status\":\"off_market\",\"primary\":null},{\"listing_id\":\"571391329\",\"status\":\"off_market\",\"primary\":null}]},\"list_price_min\":595,\"href\":\"https:\\/\\/www.realtor.com\\/realestateandhomes-detail\\/18450-W-Chicago-St_Detroit_MI_48228_M47324-96514\",\"when_indexed\":\"2021-04-08T19:30:26.753Z\",\"last_sold_price\":null,\"property_id\":\"4732496514\",\"advertisers\":[{\"office\":{\"phones\":[{\"trackable\":null,\"number\":null,\"ext\":null,\"primary\":false,\"type\":\"office\"},{\"trackable\":null,\"number\":\"2483828736\",\"ext\":null,\"primary\":false,\"type\":\"primary\"},{\"trackable\":true,\"number\":\"2483828736\",\"ext\":null,\"primary\":false,\"type\":\"primary\"}],\"lead_email\":{\"to\":\"rentalservice@move.com\",\"cc\":null},\"photo\":null,\"name\":\"Odin Properties\",\"fulfillment_id\":null,\"href\":null,\"mls_set\":null,\"email\":\"rentalservice@move.com\"},\"broker\":null,\"name\":null,\"mls_set\":null,\"email\":null,\"nrds_id\":null,\"type\":\"management\",\"slogan\":null,\"photo\":null,\"href\":null,\"phones\":null,\"fulfillment_id\":null},{\"office\":{\"phones\":[{\"trackable\":null,\"number\":\"2483828736\",\"ext\":null,\"primary\":false,\"type\":\"office\"}],\"lead_email\":null,\"photo\":null,\"name\":\"Franklin Village Apartments\",\"fulfillment_id\":null,\"href\":null,\"mls_set\":null,\"email\":null},\"broker\":null,\"name\":null,\"mls_set\":null,\"email\":null,\"nrds_id\":null,\"type\":\"community\",\"slogan\":null,\"photo\":null,\"href\":null,\"phones\":null,\"fulfillment_id\":null}],\"virtual_tours\":null,\"seller_promotion\":null,\"listing_id\":\"585167521\",\"price_reduced_amount\":null,\"location\":{\"county\":{\"name\":\"Wayne\",\"state_code\":\"MI\",\"fips_code\":\"26163\"},\"address\":{\"street_post_direction\":null,\"street_number\":\"18450\",\"state\":\"Michigan\",\"street_suffix\":\"St\",\"state_code\":\"MI\",\"unit\":null,\"postal_code\":\"48228\",\"street_direction\":\"W\",\"street_name\":\"Chicago\",\"country\":\"USA\",\"coordinate\":{\"lon\":-83.22086,\"lat\":42.36523},\"line\":\"18450 W Chicago St\",\"city\":\"Detroit\"},\"search_areas\":[{\"city\":\"detroit\",\"state_code\":\"mi\"}],\"neighborhoods\":[{\"city\":\"Detroit\",\"level\":\"macro_neighborhood\",\"name\":\"Cody-Rouge\",\"state_code\":\"MI\",\"id\":\"b5325941-6a9c-5278-9ab6-0fa05f4f7951\"},{\"city\":\"Detroit\",\"level\":\"neighborhood\",\"name\":\"Franklin Park\",\"state_code\":\"MI\",\"id\":\"413116c9-8acd-58f4-a5a2-179027a14360\"}]},\"last_update_date\":\"2021-04-08T08:44:00Z\",\"source\":{\"agents\":null,\"community_id\":1311320,\"id\":\"CSTR\",\"listing_id\":\"k7rz7vc\",\"name\":null,\"raw\":null,\"type\":\"community\"},\"permalink\":\"18450-W-Chicago-St_Detroit_MI_48228_M47324-96514\",\"list_date\":\"2015-12-18T13:58:00Z\",\"open_houses\":null,\"last_sold_date\":null,\"last_price_change_date\":null,\"description\":{\"garage_max\":null,\"sqft_min\":575,\"baths_partial_calc\":null,\"baths_1qtr\":null,\"beds_max\":2,\"lot_sqft\":null,\"sub_type\":null,\"garage\":null,\"baths_3qtr\":null,\"garage_min\":null,\"beds_min\":1,\"baths_min\":1,\"name\":\"Franklin Village Apartments\",\"baths_half\":null,\"sqft\":null,\"year_built\":1964,\"baths\":null,\"baths_full\":null,\"sqft_max\":785,\"baths_max\":1,\"baths_full_calc\":null,\"beds\":null,\"type\":\"apartment\"},\"last_price_change_amount\":null,\"price_reduced_date\":null,\"property_history\":null,\"photo_count\":14,\"list_price\":null,\"lead_attributes\":{\"show_contact_an_agent\":true},\"list_price_max\":880,\"tags\":[\"community_no_fee\",\"garage_1_or_more\",\"hardwood_floors\",\"parking_garage\",\"pets_allowed\",\"swimming_pool\",\"washer_dryer\"],\"pet_policy\":{\"cats\":true,\"dogs\":true,\"dogs_large\":null,\"dogs_small\":true,\"text\":\"Cats and nonaggressive dog breeds welcome!\"},\"products\":{\"products\":[\"showcase_community\"],\"product_attributes\":null},\"suppression_flags\":null,\"status\":\"for_rent\",\"flags\":{\"is_deal_available\":null,\"is_senior_community\":null,\"is_new_listing\":false,\"is_for_rent\":true,\"is_garage_present\":null},\"community\":null,\"matterport\":false,\"primary_photo\":{\"href\":\"https:\\/\\/ar.rdcpix.com\\/7d720200071c59c5f64a3a61ff2fea8ac-f1254888921o.jpg\",\"type\":null,\"description\":null}}]}}\n"
     ]
    }
   ],
   "source": [
    "import requests\n",
    "import json\n",
    "\n",
    "url = \"https://realtor-com-real-estate.p.rapidapi.com/for-rent\"\n",
    "\n",
    "querystring = {\"city\":\"Detroit\",\"state_code\":\"MI\",\"limit\":\"42\",\"offset\":\"0\"}\n",
    "\n",
    "headers = {\n",
    "    'x-rapidapi-key': \"af2b0d8315mshd2cfb886121c4b2p149f15jsn85834aeacb17\",\n",
    "    'x-rapidapi-host': \"realtor-com-real-estate.p.rapidapi.com\"\n",
    "    }\n",
    "\n",
    "response = requests.request(\"GET\", url, headers=headers, params=querystring)\n",
    "\n",
    "print(response.text)"
   ]
  },
  {
   "cell_type": "code",
   "execution_count": 59,
   "metadata": {},
   "outputs": [],
   "source": [
    "import pandas as pd\n",
    "response1 = response.json()"
   ]
  },
  {
   "cell_type": "code",
   "execution_count": 78,
   "metadata": {},
   "outputs": [],
   "source": [
    "def process_json_response(response_json):\n",
    "\n",
    "    \"\"\"\n",
    "        Process the list for sale API response.\n",
    "        Convert each listing to a dataframe, append to a list, and concatenate to one dataframe.\n",
    "\n",
    "        Parameters\n",
    "        ----------\n",
    "        @response_json [dictionary]: API response from search_query\n",
    "\n",
    "        Returns\n",
    "        -------\n",
    "        [dataframe] Dataframe of all list for responses\n",
    "\n",
    "    \"\"\"\n",
    "\n",
    "        # empty dataframe\n",
    "    dataframe_list = []\n",
    "    if response_json is not None:\n",
    "       \n",
    "        # iterate through each for sale listing\n",
    "\n",
    "        for l in response_json[\"data\"][\"results\"]:\n",
    "\n",
    "                # convert each listing to dataframe\n",
    "            _temp_df = pd.DataFrame.from_dict(l, orient='index').T   #\n",
    "            _temp_df = _temp_df.transpose()\n",
    "\n",
    "            # append to dataframe list for all listings\n",
    "            dataframe_list.append(_temp_df)\n",
    "\n",
    "            # concatenate all dataframes, for missing col values enter null value\n",
    "        return pd.concat(dataframe_list, axis=0, ignore_index=True, sort=False)\n",
    "    else:\n",
    "        \n",
    "        return None"
   ]
  },
  {
   "cell_type": "code",
   "execution_count": 79,
   "metadata": {},
   "outputs": [
    {
     "output_type": "error",
     "ename": "TypeError",
     "evalue": "object of type 'int' has no len()",
     "traceback": [
      "\u001b[0;31m---------------------------------------------------------------------------\u001b[0m",
      "\u001b[0;31mTypeError\u001b[0m                                 Traceback (most recent call last)",
      "\u001b[0;32m<ipython-input-79-d488a844caae>\u001b[0m in \u001b[0;36m<module>\u001b[0;34m\u001b[0m\n\u001b[0;32m----> 1\u001b[0;31m \u001b[0mdf\u001b[0m \u001b[0;34m=\u001b[0m \u001b[0mprocess_json_response\u001b[0m\u001b[0;34m(\u001b[0m\u001b[0mresponse1\u001b[0m\u001b[0;34m)\u001b[0m\u001b[0;34m\u001b[0m\u001b[0;34m\u001b[0m\u001b[0m\n\u001b[0m",
      "\u001b[0;32m<ipython-input-78-0cf27899db7f>\u001b[0m in \u001b[0;36mprocess_json_response\u001b[0;34m(response_json)\u001b[0m\n\u001b[1;32m     24\u001b[0m \u001b[0;34m\u001b[0m\u001b[0m\n\u001b[1;32m     25\u001b[0m                 \u001b[0;31m# convert each listing to dataframe\u001b[0m\u001b[0;34m\u001b[0m\u001b[0;34m\u001b[0m\u001b[0;34m\u001b[0m\u001b[0m\n\u001b[0;32m---> 26\u001b[0;31m             \u001b[0m_temp_df\u001b[0m \u001b[0;34m=\u001b[0m \u001b[0mpd\u001b[0m\u001b[0;34m.\u001b[0m\u001b[0mDataFrame\u001b[0m\u001b[0;34m.\u001b[0m\u001b[0mfrom_dict\u001b[0m\u001b[0;34m(\u001b[0m\u001b[0ml\u001b[0m\u001b[0;34m,\u001b[0m \u001b[0morient\u001b[0m\u001b[0;34m=\u001b[0m\u001b[0;34m'index'\u001b[0m\u001b[0;34m)\u001b[0m\u001b[0;34m.\u001b[0m\u001b[0mT\u001b[0m   \u001b[0;31m#\u001b[0m\u001b[0;34m\u001b[0m\u001b[0;34m\u001b[0m\u001b[0m\n\u001b[0m\u001b[1;32m     27\u001b[0m             \u001b[0m_temp_df\u001b[0m \u001b[0;34m=\u001b[0m \u001b[0m_temp_df\u001b[0m\u001b[0;34m.\u001b[0m\u001b[0mtranspose\u001b[0m\u001b[0;34m(\u001b[0m\u001b[0;34m)\u001b[0m\u001b[0;34m\u001b[0m\u001b[0;34m\u001b[0m\u001b[0m\n\u001b[1;32m     28\u001b[0m \u001b[0;34m\u001b[0m\u001b[0m\n",
      "\u001b[0;32m/Library/Frameworks/Python.framework/Versions/3.9/lib/python3.9/site-packages/pandas/core/frame.py\u001b[0m in \u001b[0;36mfrom_dict\u001b[0;34m(cls, data, orient, dtype, columns)\u001b[0m\n\u001b[1;32m   1371\u001b[0m             \u001b[0;32mraise\u001b[0m \u001b[0mValueError\u001b[0m\u001b[0;34m(\u001b[0m\u001b[0;34m\"only recognize index or columns for orient\"\u001b[0m\u001b[0;34m)\u001b[0m\u001b[0;34m\u001b[0m\u001b[0;34m\u001b[0m\u001b[0m\n\u001b[1;32m   1372\u001b[0m \u001b[0;34m\u001b[0m\u001b[0m\n\u001b[0;32m-> 1373\u001b[0;31m         \u001b[0;32mreturn\u001b[0m \u001b[0mcls\u001b[0m\u001b[0;34m(\u001b[0m\u001b[0mdata\u001b[0m\u001b[0;34m,\u001b[0m \u001b[0mindex\u001b[0m\u001b[0;34m=\u001b[0m\u001b[0mindex\u001b[0m\u001b[0;34m,\u001b[0m \u001b[0mcolumns\u001b[0m\u001b[0;34m=\u001b[0m\u001b[0mcolumns\u001b[0m\u001b[0;34m,\u001b[0m \u001b[0mdtype\u001b[0m\u001b[0;34m=\u001b[0m\u001b[0mdtype\u001b[0m\u001b[0;34m)\u001b[0m\u001b[0;34m\u001b[0m\u001b[0;34m\u001b[0m\u001b[0m\n\u001b[0m\u001b[1;32m   1374\u001b[0m \u001b[0;34m\u001b[0m\u001b[0m\n\u001b[1;32m   1375\u001b[0m     def to_numpy(\n",
      "\u001b[0;32m/Library/Frameworks/Python.framework/Versions/3.9/lib/python3.9/site-packages/pandas/core/frame.py\u001b[0m in \u001b[0;36m__init__\u001b[0;34m(self, data, index, columns, dtype, copy)\u001b[0m\n\u001b[1;32m    568\u001b[0m                     \u001b[0;32mif\u001b[0m \u001b[0mis_named_tuple\u001b[0m\u001b[0;34m(\u001b[0m\u001b[0mdata\u001b[0m\u001b[0;34m[\u001b[0m\u001b[0;36m0\u001b[0m\u001b[0;34m]\u001b[0m\u001b[0;34m)\u001b[0m \u001b[0;32mand\u001b[0m \u001b[0mcolumns\u001b[0m \u001b[0;32mis\u001b[0m \u001b[0;32mNone\u001b[0m\u001b[0;34m:\u001b[0m\u001b[0;34m\u001b[0m\u001b[0;34m\u001b[0m\u001b[0m\n\u001b[1;32m    569\u001b[0m                         \u001b[0mcolumns\u001b[0m \u001b[0;34m=\u001b[0m \u001b[0mdata\u001b[0m\u001b[0;34m[\u001b[0m\u001b[0;36m0\u001b[0m\u001b[0;34m]\u001b[0m\u001b[0;34m.\u001b[0m\u001b[0m_fields\u001b[0m\u001b[0;34m\u001b[0m\u001b[0;34m\u001b[0m\u001b[0m\n\u001b[0;32m--> 570\u001b[0;31m                     \u001b[0marrays\u001b[0m\u001b[0;34m,\u001b[0m \u001b[0mcolumns\u001b[0m \u001b[0;34m=\u001b[0m \u001b[0mto_arrays\u001b[0m\u001b[0;34m(\u001b[0m\u001b[0mdata\u001b[0m\u001b[0;34m,\u001b[0m \u001b[0mcolumns\u001b[0m\u001b[0;34m,\u001b[0m \u001b[0mdtype\u001b[0m\u001b[0;34m=\u001b[0m\u001b[0mdtype\u001b[0m\u001b[0;34m)\u001b[0m\u001b[0;34m\u001b[0m\u001b[0;34m\u001b[0m\u001b[0m\n\u001b[0m\u001b[1;32m    571\u001b[0m                     \u001b[0mcolumns\u001b[0m \u001b[0;34m=\u001b[0m \u001b[0mensure_index\u001b[0m\u001b[0;34m(\u001b[0m\u001b[0mcolumns\u001b[0m\u001b[0;34m)\u001b[0m\u001b[0;34m\u001b[0m\u001b[0;34m\u001b[0m\u001b[0m\n\u001b[1;32m    572\u001b[0m \u001b[0;34m\u001b[0m\u001b[0m\n",
      "\u001b[0;32m/Library/Frameworks/Python.framework/Versions/3.9/lib/python3.9/site-packages/pandas/core/internals/construction.py\u001b[0m in \u001b[0;36mto_arrays\u001b[0;34m(data, columns, coerce_float, dtype)\u001b[0m\n\u001b[1;32m    526\u001b[0m         \u001b[0;32mreturn\u001b[0m \u001b[0;34m[\u001b[0m\u001b[0;34m]\u001b[0m\u001b[0;34m,\u001b[0m \u001b[0;34m[\u001b[0m\u001b[0;34m]\u001b[0m  \u001b[0;31m# columns if columns is not None else []\u001b[0m\u001b[0;34m\u001b[0m\u001b[0;34m\u001b[0m\u001b[0m\n\u001b[1;32m    527\u001b[0m     \u001b[0;32mif\u001b[0m \u001b[0misinstance\u001b[0m\u001b[0;34m(\u001b[0m\u001b[0mdata\u001b[0m\u001b[0;34m[\u001b[0m\u001b[0;36m0\u001b[0m\u001b[0;34m]\u001b[0m\u001b[0;34m,\u001b[0m \u001b[0;34m(\u001b[0m\u001b[0mlist\u001b[0m\u001b[0;34m,\u001b[0m \u001b[0mtuple\u001b[0m\u001b[0;34m)\u001b[0m\u001b[0;34m)\u001b[0m\u001b[0;34m:\u001b[0m\u001b[0;34m\u001b[0m\u001b[0;34m\u001b[0m\u001b[0m\n\u001b[0;32m--> 528\u001b[0;31m         \u001b[0;32mreturn\u001b[0m \u001b[0m_list_to_arrays\u001b[0m\u001b[0;34m(\u001b[0m\u001b[0mdata\u001b[0m\u001b[0;34m,\u001b[0m \u001b[0mcolumns\u001b[0m\u001b[0;34m,\u001b[0m \u001b[0mcoerce_float\u001b[0m\u001b[0;34m=\u001b[0m\u001b[0mcoerce_float\u001b[0m\u001b[0;34m,\u001b[0m \u001b[0mdtype\u001b[0m\u001b[0;34m=\u001b[0m\u001b[0mdtype\u001b[0m\u001b[0;34m)\u001b[0m\u001b[0;34m\u001b[0m\u001b[0;34m\u001b[0m\u001b[0m\n\u001b[0m\u001b[1;32m    529\u001b[0m     \u001b[0;32melif\u001b[0m \u001b[0misinstance\u001b[0m\u001b[0;34m(\u001b[0m\u001b[0mdata\u001b[0m\u001b[0;34m[\u001b[0m\u001b[0;36m0\u001b[0m\u001b[0;34m]\u001b[0m\u001b[0;34m,\u001b[0m \u001b[0mabc\u001b[0m\u001b[0;34m.\u001b[0m\u001b[0mMapping\u001b[0m\u001b[0;34m)\u001b[0m\u001b[0;34m:\u001b[0m\u001b[0;34m\u001b[0m\u001b[0;34m\u001b[0m\u001b[0m\n\u001b[1;32m    530\u001b[0m         return _list_of_dict_to_arrays(\n",
      "\u001b[0;32m/Library/Frameworks/Python.framework/Versions/3.9/lib/python3.9/site-packages/pandas/core/internals/construction.py\u001b[0m in \u001b[0;36m_list_to_arrays\u001b[0;34m(data, columns, coerce_float, dtype)\u001b[0m\n\u001b[1;32m    563\u001b[0m     \u001b[0;32melse\u001b[0m\u001b[0;34m:\u001b[0m\u001b[0;34m\u001b[0m\u001b[0;34m\u001b[0m\u001b[0m\n\u001b[1;32m    564\u001b[0m         \u001b[0;31m# list of lists\u001b[0m\u001b[0;34m\u001b[0m\u001b[0;34m\u001b[0m\u001b[0;34m\u001b[0m\u001b[0m\n\u001b[0;32m--> 565\u001b[0;31m         \u001b[0mcontent\u001b[0m \u001b[0;34m=\u001b[0m \u001b[0mlist\u001b[0m\u001b[0;34m(\u001b[0m\u001b[0mlib\u001b[0m\u001b[0;34m.\u001b[0m\u001b[0mto_object_array\u001b[0m\u001b[0;34m(\u001b[0m\u001b[0mdata\u001b[0m\u001b[0;34m)\u001b[0m\u001b[0;34m.\u001b[0m\u001b[0mT\u001b[0m\u001b[0;34m)\u001b[0m\u001b[0;34m\u001b[0m\u001b[0;34m\u001b[0m\u001b[0m\n\u001b[0m\u001b[1;32m    566\u001b[0m     \u001b[0;31m# gh-26429 do not raise user-facing AssertionError\u001b[0m\u001b[0;34m\u001b[0m\u001b[0;34m\u001b[0m\u001b[0;34m\u001b[0m\u001b[0m\n\u001b[1;32m    567\u001b[0m     \u001b[0;32mtry\u001b[0m\u001b[0;34m:\u001b[0m\u001b[0;34m\u001b[0m\u001b[0;34m\u001b[0m\u001b[0m\n",
      "\u001b[0;32mpandas/_libs/lib.pyx\u001b[0m in \u001b[0;36mpandas._libs.lib.to_object_array\u001b[0;34m()\u001b[0m\n",
      "\u001b[0;31mTypeError\u001b[0m: object of type 'int' has no len()"
     ]
    }
   ],
   "source": [
    "df = process_json_response(response1)"
   ]
  },
  {
   "cell_type": "code",
   "execution_count": 51,
   "metadata": {
    "tags": []
   },
   "outputs": [
    {
     "output_type": "stream",
     "name": "stdout",
     "text": [
      "<class 'requests.models.Response'>\n"
     ]
    }
   ],
   "source": [
    "print(type(response))"
   ]
  },
  {
   "cell_type": "code",
   "execution_count": 50,
   "metadata": {},
   "outputs": [
    {
     "output_type": "error",
     "ename": "AttributeError",
     "evalue": "'Response' object has no attribute 'items'",
     "traceback": [
      "\u001b[0;31m---------------------------------------------------------------------------\u001b[0m",
      "\u001b[0;31mAttributeError\u001b[0m                            Traceback (most recent call last)",
      "\u001b[0;32m<ipython-input-50-62be73e3b05e>\u001b[0m in \u001b[0;36m<module>\u001b[0;34m\u001b[0m\n\u001b[0;32m----> 1\u001b[0;31m \u001b[0mlist\u001b[0m\u001b[0;34m(\u001b[0m\u001b[0mresponse\u001b[0m\u001b[0;34m.\u001b[0m\u001b[0mitems\u001b[0m\u001b[0;34m(\u001b[0m\u001b[0;34m)\u001b[0m\u001b[0;34m)\u001b[0m\u001b[0;34m[\u001b[0m\u001b[0;36m0\u001b[0m\u001b[0;34m]\u001b[0m\u001b[0;34m[\u001b[0m\u001b[0;36m0\u001b[0m\u001b[0;34m]\u001b[0m\u001b[0;34m\u001b[0m\u001b[0;34m\u001b[0m\u001b[0m\n\u001b[0m",
      "\u001b[0;31mAttributeError\u001b[0m: 'Response' object has no attribute 'items'"
     ]
    }
   ],
   "source": [
    "list(response.items())[0][0]"
   ]
  },
  {
   "cell_type": "code",
   "execution_count": 80,
   "metadata": {
    "tags": []
   },
   "outputs": [],
   "source": [
    "re = json.loads(response.content)"
   ]
  },
  {
   "cell_type": "code",
   "execution_count": 82,
   "metadata": {},
   "outputs": [],
   "source": [
    "df = pd.DataFrame.from_dict(re['data']['results'])"
   ]
  },
  {
   "cell_type": "code",
   "execution_count": 87,
   "metadata": {},
   "outputs": [
    {
     "output_type": "execute_result",
     "data": {
      "text/plain": [
       "                                               photos branding  \\\n",
       "37  [{'title': None, 'description': None, 'tags': ...       {}   \n",
       "38  [{'title': None, 'description': None, 'tags': ...       {}   \n",
       "39  [{'title': None, 'description': None, 'tags': ...       {}   \n",
       "40  [{'title': None, 'description': None, 'tags': ...       {}   \n",
       "41  [{'title': None, 'description': None, 'tags': ...       {}   \n",
       "\n",
       "                                       other_listings  list_price_min  \\\n",
       "37  {'rdc': [{'listing_id': '612930637', 'status':...             900   \n",
       "38  {'rdc': [{'listing_id': '2924659916', 'status'...             825   \n",
       "39  {'rdc': [{'listing_id': '612930825', 'status':...            1620   \n",
       "40  {'rdc': [{'listing_id': '604090897', 'status':...             995   \n",
       "41  {'rdc': [{'listing_id': '585167521', 'status':...             595   \n",
       "\n",
       "                                                 href  \\\n",
       "37  https://www.realtor.com/realestateandhomes-det...   \n",
       "38  https://www.realtor.com/realestateandhomes-det...   \n",
       "39  https://www.realtor.com/realestateandhomes-det...   \n",
       "40  https://www.realtor.com/realestateandhomes-det...   \n",
       "41  https://www.realtor.com/realestateandhomes-det...   \n",
       "\n",
       "                when_indexed  last_sold_price property_id  \\\n",
       "37  2021-04-08T20:32:47.942Z              NaN  3627605647   \n",
       "38  2021-04-08T21:53:26.590Z              NaN  9566186525   \n",
       "39  2021-04-08T20:12:38.758Z              NaN  3330774404   \n",
       "40  2021-04-08T18:37:14.681Z              NaN  9119108217   \n",
       "41  2021-04-08T19:30:26.753Z              NaN  4732496514   \n",
       "\n",
       "                                          advertisers virtual_tours  ...  \\\n",
       "37  [{'office': {'phones': [{'trackable': None, 'n...          None  ...   \n",
       "38  [{'office': {'phones': [{'trackable': None, 'n...          None  ...   \n",
       "39  [{'office': {'phones': [{'trackable': None, 'n...          None  ...   \n",
       "40  [{'office': {'phones': [{'trackable': None, 'n...          None  ...   \n",
       "41  [{'office': {'phones': [{'trackable': None, 'n...          None  ...   \n",
       "\n",
       "   list_price_max                                               tags  \\\n",
       "37           1600  [community_no_fee, central_air, dishwasher, fo...   \n",
       "38            825  [community_no_fee, central_air, forced_air, pe...   \n",
       "39           1900  [community_no_fee, dishwasher, hardwood_floors...   \n",
       "40           1035  [community_no_fee, central_air, community_gym,...   \n",
       "41            880  [community_no_fee, garage_1_or_more, hardwood_...   \n",
       "\n",
       "                                           pet_policy  \\\n",
       "37  {'cats': True, 'dogs': True, 'dogs_large': Non...   \n",
       "38  {'cats': True, 'dogs': True, 'dogs_large': Non...   \n",
       "39  {'cats': True, 'dogs': True, 'dogs_large': Non...   \n",
       "40  {'cats': True, 'dogs': True, 'dogs_large': Non...   \n",
       "41  {'cats': True, 'dogs': True, 'dogs_large': Non...   \n",
       "\n",
       "                                             products suppression_flags  \\\n",
       "37  {'products': ['showcase_community'], 'product_...              None   \n",
       "38  {'products': ['showcase_community'], 'product_...              None   \n",
       "39  {'products': ['showcase_community'], 'product_...              None   \n",
       "40  {'products': ['showcase_community'], 'product_...              None   \n",
       "41  {'products': ['showcase_community'], 'product_...              None   \n",
       "\n",
       "      status                                              flags community  \\\n",
       "37  for_rent  {'is_deal_available': None, 'is_senior_communi...      None   \n",
       "38  for_rent  {'is_deal_available': None, 'is_senior_communi...      None   \n",
       "39  for_rent  {'is_deal_available': None, 'is_senior_communi...      None   \n",
       "40  for_rent  {'is_deal_available': None, 'is_senior_communi...      None   \n",
       "41  for_rent  {'is_deal_available': None, 'is_senior_communi...      None   \n",
       "\n",
       "   matterport                                      primary_photo  \n",
       "37      False  {'href': 'https://ar.rdcpix.com/125944411/299b...  \n",
       "38      False  {'href': 'https://ar.rdcpix.com/b5f449396ef70f...  \n",
       "39      False  {'href': 'https://ar.rdcpix.com/56ec4eac389e01...  \n",
       "40      False  {'href': 'https://ar.rdcpix.com/5d162d179db0d4...  \n",
       "41      False  {'href': 'https://ar.rdcpix.com/7d720200071c59...  \n",
       "\n",
       "[5 rows x 38 columns]"
      ],
      "text/html": "<div>\n<style scoped>\n    .dataframe tbody tr th:only-of-type {\n        vertical-align: middle;\n    }\n\n    .dataframe tbody tr th {\n        vertical-align: top;\n    }\n\n    .dataframe thead th {\n        text-align: right;\n    }\n</style>\n<table border=\"1\" class=\"dataframe\">\n  <thead>\n    <tr style=\"text-align: right;\">\n      <th></th>\n      <th>photos</th>\n      <th>branding</th>\n      <th>other_listings</th>\n      <th>list_price_min</th>\n      <th>href</th>\n      <th>when_indexed</th>\n      <th>last_sold_price</th>\n      <th>property_id</th>\n      <th>advertisers</th>\n      <th>virtual_tours</th>\n      <th>...</th>\n      <th>list_price_max</th>\n      <th>tags</th>\n      <th>pet_policy</th>\n      <th>products</th>\n      <th>suppression_flags</th>\n      <th>status</th>\n      <th>flags</th>\n      <th>community</th>\n      <th>matterport</th>\n      <th>primary_photo</th>\n    </tr>\n  </thead>\n  <tbody>\n    <tr>\n      <th>37</th>\n      <td>[{'title': None, 'description': None, 'tags': ...</td>\n      <td>{}</td>\n      <td>{'rdc': [{'listing_id': '612930637', 'status':...</td>\n      <td>900</td>\n      <td>https://www.realtor.com/realestateandhomes-det...</td>\n      <td>2021-04-08T20:32:47.942Z</td>\n      <td>NaN</td>\n      <td>3627605647</td>\n      <td>[{'office': {'phones': [{'trackable': None, 'n...</td>\n      <td>None</td>\n      <td>...</td>\n      <td>1600</td>\n      <td>[community_no_fee, central_air, dishwasher, fo...</td>\n      <td>{'cats': True, 'dogs': True, 'dogs_large': Non...</td>\n      <td>{'products': ['showcase_community'], 'product_...</td>\n      <td>None</td>\n      <td>for_rent</td>\n      <td>{'is_deal_available': None, 'is_senior_communi...</td>\n      <td>None</td>\n      <td>False</td>\n      <td>{'href': 'https://ar.rdcpix.com/125944411/299b...</td>\n    </tr>\n    <tr>\n      <th>38</th>\n      <td>[{'title': None, 'description': None, 'tags': ...</td>\n      <td>{}</td>\n      <td>{'rdc': [{'listing_id': '2924659916', 'status'...</td>\n      <td>825</td>\n      <td>https://www.realtor.com/realestateandhomes-det...</td>\n      <td>2021-04-08T21:53:26.590Z</td>\n      <td>NaN</td>\n      <td>9566186525</td>\n      <td>[{'office': {'phones': [{'trackable': None, 'n...</td>\n      <td>None</td>\n      <td>...</td>\n      <td>825</td>\n      <td>[community_no_fee, central_air, forced_air, pe...</td>\n      <td>{'cats': True, 'dogs': True, 'dogs_large': Non...</td>\n      <td>{'products': ['showcase_community'], 'product_...</td>\n      <td>None</td>\n      <td>for_rent</td>\n      <td>{'is_deal_available': None, 'is_senior_communi...</td>\n      <td>None</td>\n      <td>False</td>\n      <td>{'href': 'https://ar.rdcpix.com/b5f449396ef70f...</td>\n    </tr>\n    <tr>\n      <th>39</th>\n      <td>[{'title': None, 'description': None, 'tags': ...</td>\n      <td>{}</td>\n      <td>{'rdc': [{'listing_id': '612930825', 'status':...</td>\n      <td>1620</td>\n      <td>https://www.realtor.com/realestateandhomes-det...</td>\n      <td>2021-04-08T20:12:38.758Z</td>\n      <td>NaN</td>\n      <td>3330774404</td>\n      <td>[{'office': {'phones': [{'trackable': None, 'n...</td>\n      <td>None</td>\n      <td>...</td>\n      <td>1900</td>\n      <td>[community_no_fee, dishwasher, hardwood_floors...</td>\n      <td>{'cats': True, 'dogs': True, 'dogs_large': Non...</td>\n      <td>{'products': ['showcase_community'], 'product_...</td>\n      <td>None</td>\n      <td>for_rent</td>\n      <td>{'is_deal_available': None, 'is_senior_communi...</td>\n      <td>None</td>\n      <td>False</td>\n      <td>{'href': 'https://ar.rdcpix.com/56ec4eac389e01...</td>\n    </tr>\n    <tr>\n      <th>40</th>\n      <td>[{'title': None, 'description': None, 'tags': ...</td>\n      <td>{}</td>\n      <td>{'rdc': [{'listing_id': '604090897', 'status':...</td>\n      <td>995</td>\n      <td>https://www.realtor.com/realestateandhomes-det...</td>\n      <td>2021-04-08T18:37:14.681Z</td>\n      <td>NaN</td>\n      <td>9119108217</td>\n      <td>[{'office': {'phones': [{'trackable': None, 'n...</td>\n      <td>None</td>\n      <td>...</td>\n      <td>1035</td>\n      <td>[community_no_fee, central_air, community_gym,...</td>\n      <td>{'cats': True, 'dogs': True, 'dogs_large': Non...</td>\n      <td>{'products': ['showcase_community'], 'product_...</td>\n      <td>None</td>\n      <td>for_rent</td>\n      <td>{'is_deal_available': None, 'is_senior_communi...</td>\n      <td>None</td>\n      <td>False</td>\n      <td>{'href': 'https://ar.rdcpix.com/5d162d179db0d4...</td>\n    </tr>\n    <tr>\n      <th>41</th>\n      <td>[{'title': None, 'description': None, 'tags': ...</td>\n      <td>{}</td>\n      <td>{'rdc': [{'listing_id': '585167521', 'status':...</td>\n      <td>595</td>\n      <td>https://www.realtor.com/realestateandhomes-det...</td>\n      <td>2021-04-08T19:30:26.753Z</td>\n      <td>NaN</td>\n      <td>4732496514</td>\n      <td>[{'office': {'phones': [{'trackable': None, 'n...</td>\n      <td>None</td>\n      <td>...</td>\n      <td>880</td>\n      <td>[community_no_fee, garage_1_or_more, hardwood_...</td>\n      <td>{'cats': True, 'dogs': True, 'dogs_large': Non...</td>\n      <td>{'products': ['showcase_community'], 'product_...</td>\n      <td>None</td>\n      <td>for_rent</td>\n      <td>{'is_deal_available': None, 'is_senior_communi...</td>\n      <td>None</td>\n      <td>False</td>\n      <td>{'href': 'https://ar.rdcpix.com/7d720200071c59...</td>\n    </tr>\n  </tbody>\n</table>\n<p>5 rows × 38 columns</p>\n</div>"
     },
     "metadata": {},
     "execution_count": 87
    }
   ],
   "source": [
    "df.tail()"
   ]
  },
  {
   "cell_type": "code",
   "execution_count": 105,
   "metadata": {},
   "outputs": [
    {
     "output_type": "execute_result",
     "data": {
      "text/plain": [
       "1"
      ]
     },
     "metadata": {},
     "execution_count": 105
    }
   ],
   "source": [
    "1"
   ]
  },
  {
   "cell_type": "code",
   "execution_count": 89,
   "metadata": {},
   "outputs": [],
   "source": [
    "import requests\n",
    "\n",
    "url = \"https://realtor-com-real-estate.p.rapidapi.com/for-sale\"\n",
    "\n",
    "querystring = {\"city\":\"Detroit\",\"state_code\":\"MI\",\"offset\":\"0\",\"limit\":\"42\"}\n",
    "\n",
    "headers = {\n",
    "    'x-rapidapi-key': \"af2b0d8315mshd2cfb886121c4b2p149f15jsn85834aeacb17\",\n",
    "    'x-rapidapi-host': \"realtor-com-real-estate.p.rapidapi.com\"\n",
    "    }\n",
    "\n",
    "response_forsale = requests.request(\"GET\", url, headers=headers, params=querystring)"
   ]
  },
  {
   "cell_type": "code",
   "execution_count": 91,
   "metadata": {},
   "outputs": [],
   "source": [
    "forsale = json.loads(response_forsale.content)"
   ]
  },
  {
   "cell_type": "code",
   "execution_count": 101,
   "metadata": {},
   "outputs": [],
   "source": [
    "df1 = pd.DataFrame.from_dict(forsale['data']['results'])"
   ]
  },
  {
   "cell_type": "code",
   "execution_count": 102,
   "metadata": {},
   "outputs": [
    {
     "output_type": "execute_result",
     "data": {
      "text/plain": [
       "                                       primary_photo      last_update_date  \\\n",
       "0  {'href': 'https://ap.rdcpix.com/66dd314365952f...  2021-04-08T15:23:05Z   \n",
       "1  {'href': 'https://ap.rdcpix.com/264a6ce3429bf1...  2021-04-09T00:02:34Z   \n",
       "2  {'href': 'https://ap.rdcpix.com/7abb85e84541a0...  2021-04-08T15:08:07Z   \n",
       "3  {'href': 'https://ap.rdcpix.com/003410d4785775...  2021-04-09T00:48:55Z   \n",
       "4  {'href': 'https://ap.rdcpix.com/dbef7752f374fd...  2021-04-07T19:28:30Z   \n",
       "\n",
       "                                              source  \\\n",
       "0  {'plan_id': None, 'agents': [{'office_name': N...   \n",
       "1  {'plan_id': None, 'agents': [{'office_name': '...   \n",
       "2  {'plan_id': None, 'agents': [{'office_name': N...   \n",
       "3  {'plan_id': None, 'agents': [{'office_name': N...   \n",
       "4  {'plan_id': None, 'agents': [{'office_name': '...   \n",
       "\n",
       "                                                tags  \\\n",
       "0  [community_outdoor_space, dining_room, forced_...   \n",
       "1  [central_air, dining_room, forced_air, basemen...   \n",
       "2  [dining_room, fireplace, forced_air, basement,...   \n",
       "3  [central_air, dining_room, forced_air, basemen...   \n",
       "4  [community_outdoor_space, forced_air, hardwood...   \n",
       "\n",
       "                                           permalink    status  \\\n",
       "0  19935-Monte-Vista-St_Detroit_MI_48221_M46269-1...  for_sale   \n",
       "1  18640-Russell-St_Highland-Park_MI_48203_M49020...  for_sale   \n",
       "2     3302-Lawrence-St_Detroit_MI_48206_M48895-13155  for_sale   \n",
       "3        18517-Burt-Rd_Detroit_MI_48219_M39010-07251  for_sale   \n",
       "4       8810-Olivet-St_Detroit_MI_48209_M32240-58290  for_sale   \n",
       "\n",
       "              list_date open_houses  \\\n",
       "0  2021-04-08T19:26:10Z        None   \n",
       "1  2021-04-08T15:40:20Z        None   \n",
       "2  2021-04-08T16:55:31Z        None   \n",
       "3  2021-04-09T04:52:54Z        None   \n",
       "4  2021-04-07T23:32:00Z        None   \n",
       "\n",
       "                                         description  \\\n",
       "0  {'baths_3qtr': None, 'year_built': 1944, 'sold...   \n",
       "1  {'baths_3qtr': None, 'year_built': 1925, 'sold...   \n",
       "2  {'baths_3qtr': None, 'year_built': 1924, 'sold...   \n",
       "3  {'baths_3qtr': None, 'year_built': 1957, 'sold...   \n",
       "4  {'baths_3qtr': None, 'year_built': 1913, 'sold...   \n",
       "\n",
       "                                            branding  ...  \\\n",
       "0  [{'name': 'RE/MAX Leading Edge', 'photo': None...  ...   \n",
       "1  [{'name': 'RE/MAX LEADING EDGE', 'photo': None...  ...   \n",
       "2  [{'name': 'KW Metro', 'photo': None, 'type': '...  ...   \n",
       "3  [{'name': 'Keller Williams Domain Birmingham',...  ...   \n",
       "4  [{'name': 'KW Advantage', 'photo': None, 'type...  ...   \n",
       "\n",
       "                                              photos  \\\n",
       "0  [{'tags': [{'label': 'house_view', 'probabilit...   \n",
       "1  [{'tags': [{'label': 'house_view', 'probabilit...   \n",
       "2  [{'tags': [{'label': 'house_view', 'probabilit...   \n",
       "3  [{'tags': [{'label': 'porch_yard', 'probabilit...   \n",
       "4  [{'tags': [{'label': 'porch', 'probability': 0...   \n",
       "\n",
       "                                               flags community  \\\n",
       "0  {'is_new_construction': None, 'is_for_rent': N...      None   \n",
       "1  {'is_new_construction': None, 'is_for_rent': N...      None   \n",
       "2  {'is_new_construction': None, 'is_for_rent': N...      None   \n",
       "3  {'is_new_construction': None, 'is_for_rent': N...      None   \n",
       "4  {'is_new_construction': None, 'is_for_rent': N...      None   \n",
       "\n",
       "                          products virtual_tours  \\\n",
       "0   {'brand_name': 'basic_opt_in'}          None   \n",
       "1     {'brand_name': 'essentials'}          None   \n",
       "2     {'brand_name': 'essentials'}          None   \n",
       "3  {'brand_name': 'advantage_pro'}          None   \n",
       "4     {'brand_name': 'essentials'}          None   \n",
       "\n",
       "                                      other_listings  listing_id  \\\n",
       "0  {'rdc': [{'listing_id': '2927918203', 'listing...  2927918203   \n",
       "1  {'rdc': [{'listing_id': '2927904368', 'listing...  2927904368   \n",
       "2  {'rdc': [{'listing_id': '2927908865', 'listing...  2927908865   \n",
       "3  {'rdc': [{'listing_id': '2927940847', 'listing...  2927940847   \n",
       "4  {'rdc': [{'listing_id': '2927880866', 'listing...  2927880866   \n",
       "\n",
       "  price_reduced_amount                                           location  \\\n",
       "0                 None  {'address': {'postal_code': '48221', 'state': ...   \n",
       "1                 None  {'address': {'postal_code': '48203', 'state': ...   \n",
       "2                 None  {'address': {'postal_code': '48206', 'state': ...   \n",
       "3                 None  {'address': {'postal_code': '48219', 'state': ...   \n",
       "4                 None  {'address': {'postal_code': '48209', 'state': ...   \n",
       "\n",
       "  matterport  \n",
       "0      False  \n",
       "1      False  \n",
       "2      False  \n",
       "3      False  \n",
       "4      False  \n",
       "\n",
       "[5 rows x 23 columns]"
      ],
      "text/html": "<div>\n<style scoped>\n    .dataframe tbody tr th:only-of-type {\n        vertical-align: middle;\n    }\n\n    .dataframe tbody tr th {\n        vertical-align: top;\n    }\n\n    .dataframe thead th {\n        text-align: right;\n    }\n</style>\n<table border=\"1\" class=\"dataframe\">\n  <thead>\n    <tr style=\"text-align: right;\">\n      <th></th>\n      <th>primary_photo</th>\n      <th>last_update_date</th>\n      <th>source</th>\n      <th>tags</th>\n      <th>permalink</th>\n      <th>status</th>\n      <th>list_date</th>\n      <th>open_houses</th>\n      <th>description</th>\n      <th>branding</th>\n      <th>...</th>\n      <th>photos</th>\n      <th>flags</th>\n      <th>community</th>\n      <th>products</th>\n      <th>virtual_tours</th>\n      <th>other_listings</th>\n      <th>listing_id</th>\n      <th>price_reduced_amount</th>\n      <th>location</th>\n      <th>matterport</th>\n    </tr>\n  </thead>\n  <tbody>\n    <tr>\n      <th>0</th>\n      <td>{'href': 'https://ap.rdcpix.com/66dd314365952f...</td>\n      <td>2021-04-08T15:23:05Z</td>\n      <td>{'plan_id': None, 'agents': [{'office_name': N...</td>\n      <td>[community_outdoor_space, dining_room, forced_...</td>\n      <td>19935-Monte-Vista-St_Detroit_MI_48221_M46269-1...</td>\n      <td>for_sale</td>\n      <td>2021-04-08T19:26:10Z</td>\n      <td>None</td>\n      <td>{'baths_3qtr': None, 'year_built': 1944, 'sold...</td>\n      <td>[{'name': 'RE/MAX Leading Edge', 'photo': None...</td>\n      <td>...</td>\n      <td>[{'tags': [{'label': 'house_view', 'probabilit...</td>\n      <td>{'is_new_construction': None, 'is_for_rent': N...</td>\n      <td>None</td>\n      <td>{'brand_name': 'basic_opt_in'}</td>\n      <td>None</td>\n      <td>{'rdc': [{'listing_id': '2927918203', 'listing...</td>\n      <td>2927918203</td>\n      <td>None</td>\n      <td>{'address': {'postal_code': '48221', 'state': ...</td>\n      <td>False</td>\n    </tr>\n    <tr>\n      <th>1</th>\n      <td>{'href': 'https://ap.rdcpix.com/264a6ce3429bf1...</td>\n      <td>2021-04-09T00:02:34Z</td>\n      <td>{'plan_id': None, 'agents': [{'office_name': '...</td>\n      <td>[central_air, dining_room, forced_air, basemen...</td>\n      <td>18640-Russell-St_Highland-Park_MI_48203_M49020...</td>\n      <td>for_sale</td>\n      <td>2021-04-08T15:40:20Z</td>\n      <td>None</td>\n      <td>{'baths_3qtr': None, 'year_built': 1925, 'sold...</td>\n      <td>[{'name': 'RE/MAX LEADING EDGE', 'photo': None...</td>\n      <td>...</td>\n      <td>[{'tags': [{'label': 'house_view', 'probabilit...</td>\n      <td>{'is_new_construction': None, 'is_for_rent': N...</td>\n      <td>None</td>\n      <td>{'brand_name': 'essentials'}</td>\n      <td>None</td>\n      <td>{'rdc': [{'listing_id': '2927904368', 'listing...</td>\n      <td>2927904368</td>\n      <td>None</td>\n      <td>{'address': {'postal_code': '48203', 'state': ...</td>\n      <td>False</td>\n    </tr>\n    <tr>\n      <th>2</th>\n      <td>{'href': 'https://ap.rdcpix.com/7abb85e84541a0...</td>\n      <td>2021-04-08T15:08:07Z</td>\n      <td>{'plan_id': None, 'agents': [{'office_name': N...</td>\n      <td>[dining_room, fireplace, forced_air, basement,...</td>\n      <td>3302-Lawrence-St_Detroit_MI_48206_M48895-13155</td>\n      <td>for_sale</td>\n      <td>2021-04-08T16:55:31Z</td>\n      <td>None</td>\n      <td>{'baths_3qtr': None, 'year_built': 1924, 'sold...</td>\n      <td>[{'name': 'KW Metro', 'photo': None, 'type': '...</td>\n      <td>...</td>\n      <td>[{'tags': [{'label': 'house_view', 'probabilit...</td>\n      <td>{'is_new_construction': None, 'is_for_rent': N...</td>\n      <td>None</td>\n      <td>{'brand_name': 'essentials'}</td>\n      <td>None</td>\n      <td>{'rdc': [{'listing_id': '2927908865', 'listing...</td>\n      <td>2927908865</td>\n      <td>None</td>\n      <td>{'address': {'postal_code': '48206', 'state': ...</td>\n      <td>False</td>\n    </tr>\n    <tr>\n      <th>3</th>\n      <td>{'href': 'https://ap.rdcpix.com/003410d4785775...</td>\n      <td>2021-04-09T00:48:55Z</td>\n      <td>{'plan_id': None, 'agents': [{'office_name': N...</td>\n      <td>[central_air, dining_room, forced_air, basemen...</td>\n      <td>18517-Burt-Rd_Detroit_MI_48219_M39010-07251</td>\n      <td>for_sale</td>\n      <td>2021-04-09T04:52:54Z</td>\n      <td>None</td>\n      <td>{'baths_3qtr': None, 'year_built': 1957, 'sold...</td>\n      <td>[{'name': 'Keller Williams Domain Birmingham',...</td>\n      <td>...</td>\n      <td>[{'tags': [{'label': 'porch_yard', 'probabilit...</td>\n      <td>{'is_new_construction': None, 'is_for_rent': N...</td>\n      <td>None</td>\n      <td>{'brand_name': 'advantage_pro'}</td>\n      <td>None</td>\n      <td>{'rdc': [{'listing_id': '2927940847', 'listing...</td>\n      <td>2927940847</td>\n      <td>None</td>\n      <td>{'address': {'postal_code': '48219', 'state': ...</td>\n      <td>False</td>\n    </tr>\n    <tr>\n      <th>4</th>\n      <td>{'href': 'https://ap.rdcpix.com/dbef7752f374fd...</td>\n      <td>2021-04-07T19:28:30Z</td>\n      <td>{'plan_id': None, 'agents': [{'office_name': '...</td>\n      <td>[community_outdoor_space, forced_air, hardwood...</td>\n      <td>8810-Olivet-St_Detroit_MI_48209_M32240-58290</td>\n      <td>for_sale</td>\n      <td>2021-04-07T23:32:00Z</td>\n      <td>None</td>\n      <td>{'baths_3qtr': None, 'year_built': 1913, 'sold...</td>\n      <td>[{'name': 'KW Advantage', 'photo': None, 'type...</td>\n      <td>...</td>\n      <td>[{'tags': [{'label': 'porch', 'probability': 0...</td>\n      <td>{'is_new_construction': None, 'is_for_rent': N...</td>\n      <td>None</td>\n      <td>{'brand_name': 'essentials'}</td>\n      <td>None</td>\n      <td>{'rdc': [{'listing_id': '2927880866', 'listing...</td>\n      <td>2927880866</td>\n      <td>None</td>\n      <td>{'address': {'postal_code': '48209', 'state': ...</td>\n      <td>False</td>\n    </tr>\n  </tbody>\n</table>\n<p>5 rows × 23 columns</p>\n</div>"
     },
     "metadata": {},
     "execution_count": 102
    }
   ],
   "source": [
    "df1.head()"
   ]
  },
  {
   "cell_type": "code",
   "execution_count": 103,
   "metadata": {},
   "outputs": [
    {
     "output_type": "execute_result",
     "data": {
      "text/plain": [
       "Index(['primary_photo', 'last_update_date', 'source', 'tags', 'permalink',\n",
       "       'status', 'list_date', 'open_houses', 'description', 'branding',\n",
       "       'list_price', 'lead_attributes', 'property_id', 'photos', 'flags',\n",
       "       'community', 'products', 'virtual_tours', 'other_listings',\n",
       "       'listing_id', 'price_reduced_amount', 'location', 'matterport'],\n",
       "      dtype='object')"
      ]
     },
     "metadata": {},
     "execution_count": 103
    }
   ],
   "source": [
    "df1.columns"
   ]
  },
  {
   "cell_type": "code",
   "execution_count": 95,
   "metadata": {},
   "outputs": [
    {
     "output_type": "execute_result",
     "data": {
      "text/plain": [
       "Index(['photos', 'branding', 'other_listings', 'list_price_min', 'href',\n",
       "       'when_indexed', 'last_sold_price', 'property_id', 'advertisers',\n",
       "       'virtual_tours', 'seller_promotion', 'listing_id',\n",
       "       'price_reduced_amount', 'location', 'last_update_date', 'source',\n",
       "       'permalink', 'list_date', 'open_houses', 'last_sold_date',\n",
       "       'last_price_change_date', 'description', 'last_price_change_amount',\n",
       "       'price_reduced_date', 'property_history', 'photo_count', 'list_price',\n",
       "       'lead_attributes', 'list_price_max', 'tags', 'pet_policy', 'products',\n",
       "       'suppression_flags', 'status', 'flags', 'community', 'matterport',\n",
       "       'primary_photo'],\n",
       "      dtype='object')"
      ]
     },
     "metadata": {},
     "execution_count": 95
    }
   ],
   "source": [
    "df.columns"
   ]
  },
  {
   "cell_type": "code",
   "execution_count": 97,
   "metadata": {},
   "outputs": [],
   "source": [
    "df.to_csv('for_rent1.csv')"
   ]
  },
  {
   "cell_type": "code",
   "execution_count": 104,
   "metadata": {},
   "outputs": [],
   "source": [
    "df1.to_csv('for_sale2.csv')"
   ]
  },
  {
   "cell_type": "code",
   "execution_count": 107,
   "metadata": {},
   "outputs": [
    {
     "output_type": "execute_result",
     "data": {
      "text/plain": [
       "primary_photo           object\n",
       "last_update_date        object\n",
       "source                  object\n",
       "tags                    object\n",
       "permalink               object\n",
       "status                  object\n",
       "list_date               object\n",
       "open_houses             object\n",
       "description             object\n",
       "branding                object\n",
       "list_price               int64\n",
       "lead_attributes         object\n",
       "property_id             object\n",
       "photos                  object\n",
       "flags                   object\n",
       "community               object\n",
       "products                object\n",
       "virtual_tours           object\n",
       "other_listings          object\n",
       "listing_id              object\n",
       "price_reduced_amount    object\n",
       "location                object\n",
       "matterport                bool\n",
       "dtype: object"
      ]
     },
     "metadata": {},
     "execution_count": 107
    }
   ],
   "source": [
    "df1.dtypes"
   ]
  },
  {
   "cell_type": "code",
   "execution_count": null,
   "metadata": {},
   "outputs": [],
   "source": []
  }
 ]
}