{
 "metadata": {
  "language_info": {
   "codemirror_mode": {
    "name": "ipython",
    "version": 3
   },
   "file_extension": ".py",
   "mimetype": "text/x-python",
   "name": "python",
   "nbconvert_exporter": "python",
   "pygments_lexer": "ipython3",
   "version": "3.9.2-final"
  },
  "orig_nbformat": 2,
  "kernelspec": {
   "name": "python3",
   "display_name": "Python 3",
   "language": "python"
  }
 },
 "nbformat": 4,
 "nbformat_minor": 2,
 "cells": [
  {
   "cell_type": "code",
   "execution_count": 1,
   "metadata": {},
   "outputs": [
    {
     "output_type": "execute_result",
     "data": {
      "text/plain": [
       "Unnamed: 0                int64\n",
       "property_id              object\n",
       "listing_id                int64\n",
       "products                 object\n",
       "rdc_web_url              object\n",
       "prop_type                object\n",
       "address                  object\n",
       "branding                 object\n",
       "prop_status              object\n",
       "price                     int64\n",
       "baths_full                int64\n",
       "baths                     int64\n",
       "beds                      int64\n",
       "building_size            object\n",
       "agents                   object\n",
       "office                   object\n",
       "last_update              object\n",
       "client_display_flags     object\n",
       "lead_forms               object\n",
       "photo_count               int64\n",
       "thumbnail                object\n",
       "page_no                   int64\n",
       "rank                      int64\n",
       "list_tracking            object\n",
       "lot_size                 object\n",
       "mls                      object\n",
       "data_source_name         object\n",
       "baths_half              float64\n",
       "virtual_tour             object\n",
       "dtype: object"
      ]
     },
     "metadata": {},
     "execution_count": 1
    }
   ],
   "source": [
    "import pandas as pd\n",
    "df = pd.read_csv('/Users/home/Downloads/for_sale.csv')\n",
    "df.dtypes"
   ]
  },
  {
   "cell_type": "code",
   "execution_count": 3,
   "metadata": {},
   "outputs": [
    {
     "output_type": "execute_result",
     "data": {
      "text/plain": [
       "'task1'"
      ]
     },
     "metadata": {},
     "execution_count": 3
    }
   ],
   "source": [
    "\"task\"+str(1)"
   ]
  },
  {
   "cell_type": "code",
   "execution_count": 1,
   "metadata": {},
   "outputs": [],
   "source": [
    "aa = {'a':23, 'b':22}\n",
    "bb = {'c':30, 'd':98}\n",
    "\n",
    "def func():\n",
    "    return aa, bb"
   ]
  },
  {
   "cell_type": "code",
   "execution_count": 3,
   "metadata": {},
   "outputs": [
    {
     "output_type": "execute_result",
     "data": {
      "text/plain": [
       "{'a': 23, 'b': 22}"
      ]
     },
     "metadata": {},
     "execution_count": 3
    }
   ],
   "source": [
    "func()[0]"
   ]
  },
  {
   "cell_type": "code",
   "execution_count": 2,
   "metadata": {},
   "outputs": [
    {
     "output_type": "execute_result",
     "data": {
      "text/plain": [
       "False"
      ]
     },
     "metadata": {},
     "execution_count": 2
    }
   ],
   "source": [
    "er = {'a':''}\n",
    "er['a']==None"
   ]
  },
  {
   "cell_type": "code",
   "execution_count": 2,
   "metadata": {},
   "outputs": [],
   "source": [
    "def sum():\n",
    "    return 34\n"
   ]
  },
  {
   "cell_type": "code",
   "execution_count": 3,
   "metadata": {},
   "outputs": [],
   "source": [
    "def sum():\n",
    "    return 6"
   ]
  },
  {
   "cell_type": "code",
   "execution_count": 4,
   "metadata": {},
   "outputs": [
    {
     "output_type": "execute_result",
     "data": {
      "text/plain": [
       "6"
      ]
     },
     "metadata": {},
     "execution_count": 4
    }
   ],
   "source": [
    "sum()"
   ]
  },
  {
   "cell_type": "code",
   "execution_count": null,
   "metadata": {},
   "outputs": [],
   "source": []
  }
 ]
}